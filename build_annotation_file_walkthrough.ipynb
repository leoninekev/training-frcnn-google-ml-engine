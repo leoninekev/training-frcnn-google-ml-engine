{
 "cells": [
  {
   "cell_type": "code",
   "execution_count": 1,
   "metadata": {},
   "outputs": [],
   "source": [
    "import os\n",
    "import glob\n",
    "import pandas as pd\n",
    "import xml.etree.ElementTree as ET\n",
    "import time"
   ]
  },
  {
   "cell_type": "markdown",
   "metadata": {},
   "source": [
    "#### • Convert xmls to pandas dataframe"
   ]
  },
  {
   "cell_type": "code",
   "execution_count": 2,
   "metadata": {},
   "outputs": [],
   "source": [
    "def xml_to_df(path, subdirectories = True):\n",
    "    xml_list = []\n",
    "    if subdirectories:\n",
    "        classes = os.listdir(path)\n",
    "        for cls in classes:\n",
    "            for xml_file in glob.glob(os.path.join(path, cls) + '/*.xml'):\n",
    "                tree = ET.parse(xml_file)\n",
    "                root = tree.getroot()\n",
    "                for member in root.findall('object'):\n",
    "                    value = (root.find('filename').text,\n",
    "                            int(root.find('size')[0].text),\n",
    "                            int(root.find('size')[1].text),\n",
    "                            member[0].text,\n",
    "                            int(member[4][0].text),\n",
    "                            int(member[4][1].text),\n",
    "                            int(member[4][2].text),\n",
    "                            int(member[4][3].text)\n",
    "                            )\n",
    "                    xml_list.append(value)\n",
    "        column_name = ['filename', 'width', 'height', 'classes', 'xmin', 'ymin', 'xmax', 'ymax']\n",
    "        xml_df = pd.DataFrame(xml_list, columns=column_name)\n",
    "    else:\n",
    "        for xml_file in glob.glob(path + '/*.xml'):\n",
    "            tree = ET.parse(xml_file)\n",
    "            root = tree.getroot()\n",
    "            for member in root.findall('object'):\n",
    "                value = (root.find('filename').text,\n",
    "                        int(root.find('size')[0].text),\n",
    "                        int(root.find('size')[1].text),\n",
    "                        member[0].text,\n",
    "                        int(member[4][0].text),\n",
    "                        int(member[4][1].text),\n",
    "                        int(member[4][2].text),\n",
    "                        int(member[4][3].text)\n",
    "                        )\n",
    "                xml_list.append(value)\n",
    "        column_name = ['filename', 'width', 'height', 'classes', 'xmin', 'ymin', 'xmax', 'ymax']\n",
    "        xml_df = pd.DataFrame(xml_list, columns=column_name)\n",
    "\n",
    "    return xml_df"
   ]
  },
  {
   "cell_type": "markdown",
   "metadata": {},
   "source": [
    "##### • Input path to directory containing subdirectory of images"
   ]
  },
  {
   "cell_type": "code",
   "execution_count": 3,
   "metadata": {},
   "outputs": [],
   "source": [
    "src_path= os.path.join(os.getcwd(),'food_data')\n",
    "df_xml = xml_to_df(src_path, subdirectories = False)"
   ]
  },
  {
   "cell_type": "code",
   "execution_count": 4,
   "metadata": {},
   "outputs": [
    {
     "data": {
      "text/html": [
       "<div>\n",
       "<style scoped>\n",
       "    .dataframe tbody tr th:only-of-type {\n",
       "        vertical-align: middle;\n",
       "    }\n",
       "\n",
       "    .dataframe tbody tr th {\n",
       "        vertical-align: top;\n",
       "    }\n",
       "\n",
       "    .dataframe thead th {\n",
       "        text-align: right;\n",
       "    }\n",
       "</style>\n",
       "<table border=\"1\" class=\"dataframe\">\n",
       "  <thead>\n",
       "    <tr style=\"text-align: right;\">\n",
       "      <th></th>\n",
       "      <th>filename</th>\n",
       "      <th>width</th>\n",
       "      <th>height</th>\n",
       "      <th>classes</th>\n",
       "      <th>xmin</th>\n",
       "      <th>ymin</th>\n",
       "      <th>xmax</th>\n",
       "      <th>ymax</th>\n",
       "    </tr>\n",
       "  </thead>\n",
       "  <tbody>\n",
       "    <tr>\n",
       "      <th>0</th>\n",
       "      <td>100576.jpg</td>\n",
       "      <td>384</td>\n",
       "      <td>512</td>\n",
       "      <td>donuts</td>\n",
       "      <td>27</td>\n",
       "      <td>192</td>\n",
       "      <td>279</td>\n",
       "      <td>464</td>\n",
       "    </tr>\n",
       "    <tr>\n",
       "      <th>1</th>\n",
       "      <td>100576.jpg</td>\n",
       "      <td>384</td>\n",
       "      <td>512</td>\n",
       "      <td>donuts</td>\n",
       "      <td>129</td>\n",
       "      <td>7</td>\n",
       "      <td>339</td>\n",
       "      <td>213</td>\n",
       "    </tr>\n",
       "    <tr>\n",
       "      <th>2</th>\n",
       "      <td>100786.jpg</td>\n",
       "      <td>382</td>\n",
       "      <td>512</td>\n",
       "      <td>donuts</td>\n",
       "      <td>30</td>\n",
       "      <td>127</td>\n",
       "      <td>356</td>\n",
       "      <td>418</td>\n",
       "    </tr>\n",
       "    <tr>\n",
       "      <th>3</th>\n",
       "      <td>101905.jpg</td>\n",
       "      <td>512</td>\n",
       "      <td>384</td>\n",
       "      <td>donuts</td>\n",
       "      <td>112</td>\n",
       "      <td>21</td>\n",
       "      <td>249</td>\n",
       "      <td>151</td>\n",
       "    </tr>\n",
       "    <tr>\n",
       "      <th>4</th>\n",
       "      <td>101905.jpg</td>\n",
       "      <td>512</td>\n",
       "      <td>384</td>\n",
       "      <td>donuts</td>\n",
       "      <td>247</td>\n",
       "      <td>28</td>\n",
       "      <td>384</td>\n",
       "      <td>153</td>\n",
       "    </tr>\n",
       "    <tr>\n",
       "      <th>5</th>\n",
       "      <td>101905.jpg</td>\n",
       "      <td>512</td>\n",
       "      <td>384</td>\n",
       "      <td>donuts</td>\n",
       "      <td>212</td>\n",
       "      <td>153</td>\n",
       "      <td>370</td>\n",
       "      <td>293</td>\n",
       "    </tr>\n",
       "    <tr>\n",
       "      <th>6</th>\n",
       "      <td>101905.jpg</td>\n",
       "      <td>512</td>\n",
       "      <td>384</td>\n",
       "      <td>donuts</td>\n",
       "      <td>371</td>\n",
       "      <td>163</td>\n",
       "      <td>512</td>\n",
       "      <td>345</td>\n",
       "    </tr>\n",
       "  </tbody>\n",
       "</table>\n",
       "</div>"
      ],
      "text/plain": [
       "     filename  width  height classes  xmin  ymin  xmax  ymax\n",
       "0  100576.jpg    384     512  donuts    27   192   279   464\n",
       "1  100576.jpg    384     512  donuts   129     7   339   213\n",
       "2  100786.jpg    382     512  donuts    30   127   356   418\n",
       "3  101905.jpg    512     384  donuts   112    21   249   151\n",
       "4  101905.jpg    512     384  donuts   247    28   384   153\n",
       "5  101905.jpg    512     384  donuts   212   153   370   293\n",
       "6  101905.jpg    512     384  donuts   371   163   512   345"
      ]
     },
     "execution_count": 4,
     "metadata": {},
     "output_type": "execute_result"
    }
   ],
   "source": [
    "df_xml.head(7)"
   ]
  },
  {
   "cell_type": "markdown",
   "metadata": {},
   "source": [
    "#####  • Address of gcloud bucket storing images"
   ]
  },
  {
   "cell_type": "code",
   "execution_count": 5,
   "metadata": {},
   "outputs": [],
   "source": [
    "gbucket_path = 'gs://your_gcloud_bucket_name/food_data/'"
   ]
  },
  {
   "cell_type": "code",
   "execution_count": 6,
   "metadata": {},
   "outputs": [
    {
     "data": {
      "text/html": [
       "<div>\n",
       "<style scoped>\n",
       "    .dataframe tbody tr th:only-of-type {\n",
       "        vertical-align: middle;\n",
       "    }\n",
       "\n",
       "    .dataframe tbody tr th {\n",
       "        vertical-align: top;\n",
       "    }\n",
       "\n",
       "    .dataframe thead th {\n",
       "        text-align: right;\n",
       "    }\n",
       "</style>\n",
       "<table border=\"1\" class=\"dataframe\">\n",
       "  <thead>\n",
       "    <tr style=\"text-align: right;\">\n",
       "      <th></th>\n",
       "      <th>filename</th>\n",
       "      <th>width</th>\n",
       "      <th>height</th>\n",
       "      <th>classes</th>\n",
       "      <th>xmin</th>\n",
       "      <th>ymin</th>\n",
       "      <th>xmax</th>\n",
       "      <th>ymax</th>\n",
       "    </tr>\n",
       "  </thead>\n",
       "  <tbody>\n",
       "    <tr>\n",
       "      <th>0</th>\n",
       "      <td>gs://your_gcloud_bucket_name/food_data/100576.jpg</td>\n",
       "      <td>384</td>\n",
       "      <td>512</td>\n",
       "      <td>donuts</td>\n",
       "      <td>27</td>\n",
       "      <td>192</td>\n",
       "      <td>279</td>\n",
       "      <td>464</td>\n",
       "    </tr>\n",
       "    <tr>\n",
       "      <th>1</th>\n",
       "      <td>gs://your_gcloud_bucket_name/food_data/100576.jpg</td>\n",
       "      <td>384</td>\n",
       "      <td>512</td>\n",
       "      <td>donuts</td>\n",
       "      <td>129</td>\n",
       "      <td>7</td>\n",
       "      <td>339</td>\n",
       "      <td>213</td>\n",
       "    </tr>\n",
       "    <tr>\n",
       "      <th>2</th>\n",
       "      <td>gs://your_gcloud_bucket_name/food_data/100786.jpg</td>\n",
       "      <td>382</td>\n",
       "      <td>512</td>\n",
       "      <td>donuts</td>\n",
       "      <td>30</td>\n",
       "      <td>127</td>\n",
       "      <td>356</td>\n",
       "      <td>418</td>\n",
       "    </tr>\n",
       "    <tr>\n",
       "      <th>3</th>\n",
       "      <td>gs://your_gcloud_bucket_name/food_data/101905.jpg</td>\n",
       "      <td>512</td>\n",
       "      <td>384</td>\n",
       "      <td>donuts</td>\n",
       "      <td>112</td>\n",
       "      <td>21</td>\n",
       "      <td>249</td>\n",
       "      <td>151</td>\n",
       "    </tr>\n",
       "    <tr>\n",
       "      <th>4</th>\n",
       "      <td>gs://your_gcloud_bucket_name/food_data/101905.jpg</td>\n",
       "      <td>512</td>\n",
       "      <td>384</td>\n",
       "      <td>donuts</td>\n",
       "      <td>247</td>\n",
       "      <td>28</td>\n",
       "      <td>384</td>\n",
       "      <td>153</td>\n",
       "    </tr>\n",
       "    <tr>\n",
       "      <th>5</th>\n",
       "      <td>gs://your_gcloud_bucket_name/food_data/101905.jpg</td>\n",
       "      <td>512</td>\n",
       "      <td>384</td>\n",
       "      <td>donuts</td>\n",
       "      <td>212</td>\n",
       "      <td>153</td>\n",
       "      <td>370</td>\n",
       "      <td>293</td>\n",
       "    </tr>\n",
       "  </tbody>\n",
       "</table>\n",
       "</div>"
      ],
      "text/plain": [
       "                                            filename  width  height classes  \\\n",
       "0  gs://your_gcloud_bucket_name/food_data/100576.jpg    384     512  donuts   \n",
       "1  gs://your_gcloud_bucket_name/food_data/100576.jpg    384     512  donuts   \n",
       "2  gs://your_gcloud_bucket_name/food_data/100786.jpg    382     512  donuts   \n",
       "3  gs://your_gcloud_bucket_name/food_data/101905.jpg    512     384  donuts   \n",
       "4  gs://your_gcloud_bucket_name/food_data/101905.jpg    512     384  donuts   \n",
       "5  gs://your_gcloud_bucket_name/food_data/101905.jpg    512     384  donuts   \n",
       "\n",
       "   xmin  ymin  xmax  ymax  \n",
       "0    27   192   279   464  \n",
       "1   129     7   339   213  \n",
       "2    30   127   356   418  \n",
       "3   112    21   249   151  \n",
       "4   247    28   384   153  \n",
       "5   212   153   370   293  "
      ]
     },
     "execution_count": 6,
     "metadata": {},
     "output_type": "execute_result"
    }
   ],
   "source": [
    "df_xml['filename']= df_xml.filename.apply(lambda x: os.path.join(gbucket_path, x))#gbucket_path+ x)\n",
    "df_xml.head(6)"
   ]
  },
  {
   "cell_type": "code",
   "execution_count": 7,
   "metadata": {},
   "outputs": [
    {
     "data": {
      "text/plain": [
       "'gs://your_gcloud_bucket_name/food_data/100576.jpg'"
      ]
     },
     "execution_count": 7,
     "metadata": {},
     "output_type": "execute_result"
    }
   ],
   "source": [
    "df_xml.filename[0]"
   ]
  },
  {
   "cell_type": "code",
   "execution_count": 8,
   "metadata": {},
   "outputs": [
    {
     "data": {
      "text/plain": [
       "0    gs://your_gcloud_bucket_name/food_data/100576....\n",
       "1    gs://your_gcloud_bucket_name/food_data/100576....\n",
       "2    gs://your_gcloud_bucket_name/food_data/100786....\n",
       "3    gs://your_gcloud_bucket_name/food_data/101905....\n",
       "4    gs://your_gcloud_bucket_name/food_data/101905....\n",
       "dtype: object"
      ]
     },
     "execution_count": 8,
     "metadata": {},
     "output_type": "execute_result"
    }
   ],
   "source": [
    "cols_req = ['filename','xmin', 'ymin', 'xmax', 'ymax','classes']\n",
    "df_txt = pd.DataFrame()    \n",
    "df_txt = df_xml[cols_req].apply(lambda x : ','.join(x.astype(str)),axis=1)\n",
    "df_txt.head(5)"
   ]
  },
  {
   "cell_type": "code",
   "execution_count": 9,
   "metadata": {},
   "outputs": [
    {
     "data": {
      "text/plain": [
       "'gs://your_gcloud_bucket_name/food_data/100576.jpg,27,192,279,464,donuts'"
      ]
     },
     "execution_count": 9,
     "metadata": {},
     "output_type": "execute_result"
    }
   ],
   "source": [
    "df_txt[0]"
   ]
  },
  {
   "cell_type": "markdown",
   "metadata": {},
   "source": [
    "##### • Download df_txt as annotation.txt maybe?"
   ]
  },
  {
   "cell_type": "code",
   "execution_count": 28,
   "metadata": {},
   "outputs": [],
   "source": [
    "dest_path=os.path.join(os.getcwd(),'annotations.txt')\n",
    "df_txt.to_csv(dest_path, header= None, index=None,sep=' ')"
   ]
  },
  {
   "cell_type": "code",
   "execution_count": null,
   "metadata": {},
   "outputs": [],
   "source": []
  },
  {
   "cell_type": "markdown",
   "metadata": {},
   "source": [
    "###  ◘ Or Alternatively\n",
    "####  [ A ] Modify older annotations.\n",
    "#### [ B ] Parse CSV\n",
    "\n",
    "\n"
   ]
  },
  {
   "cell_type": "markdown",
   "metadata": {},
   "source": [
    "#####  [A] Modifying annotations generated previously for local use."
   ]
  },
  {
   "cell_type": "code",
   "execution_count": 10,
   "metadata": {},
   "outputs": [
    {
     "data": {
      "text/html": [
       "<div>\n",
       "<style scoped>\n",
       "    .dataframe tbody tr th:only-of-type {\n",
       "        vertical-align: middle;\n",
       "    }\n",
       "\n",
       "    .dataframe tbody tr th {\n",
       "        vertical-align: top;\n",
       "    }\n",
       "\n",
       "    .dataframe thead th {\n",
       "        text-align: right;\n",
       "    }\n",
       "</style>\n",
       "<table border=\"1\" class=\"dataframe\">\n",
       "  <thead>\n",
       "    <tr style=\"text-align: right;\">\n",
       "      <th></th>\n",
       "      <th>filename</th>\n",
       "      <th>xmin</th>\n",
       "      <th>ymin</th>\n",
       "      <th>xmax</th>\n",
       "      <th>ymax</th>\n",
       "      <th>classes</th>\n",
       "    </tr>\n",
       "  </thead>\n",
       "  <tbody>\n",
       "    <tr>\n",
       "      <th>0</th>\n",
       "      <td>food_data\\cake\\106496.jpg</td>\n",
       "      <td>164</td>\n",
       "      <td>29</td>\n",
       "      <td>487</td>\n",
       "      <td>323</td>\n",
       "      <td>cake</td>\n",
       "    </tr>\n",
       "    <tr>\n",
       "      <th>1</th>\n",
       "      <td>food_data\\cake\\106501.jpg</td>\n",
       "      <td>42</td>\n",
       "      <td>259</td>\n",
       "      <td>251</td>\n",
       "      <td>465</td>\n",
       "      <td>cake</td>\n",
       "    </tr>\n",
       "    <tr>\n",
       "      <th>2</th>\n",
       "      <td>food_data\\cake\\106501.jpg</td>\n",
       "      <td>139</td>\n",
       "      <td>120</td>\n",
       "      <td>307</td>\n",
       "      <td>298</td>\n",
       "      <td>cake</td>\n",
       "    </tr>\n",
       "    <tr>\n",
       "      <th>3</th>\n",
       "      <td>food_data\\cake\\110954.jpg</td>\n",
       "      <td>15</td>\n",
       "      <td>80</td>\n",
       "      <td>367</td>\n",
       "      <td>460</td>\n",
       "      <td>cake</td>\n",
       "    </tr>\n",
       "    <tr>\n",
       "      <th>4</th>\n",
       "      <td>food_data\\cake\\110954.jpg</td>\n",
       "      <td>1</td>\n",
       "      <td>82</td>\n",
       "      <td>111</td>\n",
       "      <td>288</td>\n",
       "      <td>cake</td>\n",
       "    </tr>\n",
       "  </tbody>\n",
       "</table>\n",
       "</div>"
      ],
      "text/plain": [
       "                    filename  xmin  ymin  xmax  ymax classes\n",
       "0  food_data\\cake\\106496.jpg   164    29   487   323    cake\n",
       "1  food_data\\cake\\106501.jpg    42   259   251   465    cake\n",
       "2  food_data\\cake\\106501.jpg   139   120   307   298    cake\n",
       "3  food_data\\cake\\110954.jpg    15    80   367   460    cake\n",
       "4  food_data\\cake\\110954.jpg     1    82   111   288    cake"
      ]
     },
     "execution_count": 10,
     "metadata": {},
     "output_type": "execute_result"
    }
   ],
   "source": [
    "train = pd.read_csv(\"annotations.txt\", names=['filename', 'xmin','ymin','xmax','ymax','classes'])\n",
    "train.head(5)"
   ]
  },
  {
   "cell_type": "code",
   "execution_count": 11,
   "metadata": {},
   "outputs": [
    {
     "data": {
      "text/html": [
       "<div>\n",
       "<style scoped>\n",
       "    .dataframe tbody tr th:only-of-type {\n",
       "        vertical-align: middle;\n",
       "    }\n",
       "\n",
       "    .dataframe tbody tr th {\n",
       "        vertical-align: top;\n",
       "    }\n",
       "\n",
       "    .dataframe thead th {\n",
       "        text-align: right;\n",
       "    }\n",
       "</style>\n",
       "<table border=\"1\" class=\"dataframe\">\n",
       "  <thead>\n",
       "    <tr style=\"text-align: right;\">\n",
       "      <th></th>\n",
       "      <th>filename</th>\n",
       "      <th>xmin</th>\n",
       "      <th>ymin</th>\n",
       "      <th>xmax</th>\n",
       "      <th>ymax</th>\n",
       "      <th>classes</th>\n",
       "    </tr>\n",
       "  </thead>\n",
       "  <tbody>\n",
       "    <tr>\n",
       "      <th>0</th>\n",
       "      <td>gs://your_gcloud_bucket_name/food_data/food_da...</td>\n",
       "      <td>164</td>\n",
       "      <td>29</td>\n",
       "      <td>487</td>\n",
       "      <td>323</td>\n",
       "      <td>cake</td>\n",
       "    </tr>\n",
       "    <tr>\n",
       "      <th>1</th>\n",
       "      <td>gs://your_gcloud_bucket_name/food_data/food_da...</td>\n",
       "      <td>42</td>\n",
       "      <td>259</td>\n",
       "      <td>251</td>\n",
       "      <td>465</td>\n",
       "      <td>cake</td>\n",
       "    </tr>\n",
       "    <tr>\n",
       "      <th>2</th>\n",
       "      <td>gs://your_gcloud_bucket_name/food_data/food_da...</td>\n",
       "      <td>139</td>\n",
       "      <td>120</td>\n",
       "      <td>307</td>\n",
       "      <td>298</td>\n",
       "      <td>cake</td>\n",
       "    </tr>\n",
       "    <tr>\n",
       "      <th>3</th>\n",
       "      <td>gs://your_gcloud_bucket_name/food_data/food_da...</td>\n",
       "      <td>15</td>\n",
       "      <td>80</td>\n",
       "      <td>367</td>\n",
       "      <td>460</td>\n",
       "      <td>cake</td>\n",
       "    </tr>\n",
       "    <tr>\n",
       "      <th>4</th>\n",
       "      <td>gs://your_gcloud_bucket_name/food_data/food_da...</td>\n",
       "      <td>1</td>\n",
       "      <td>82</td>\n",
       "      <td>111</td>\n",
       "      <td>288</td>\n",
       "      <td>cake</td>\n",
       "    </tr>\n",
       "    <tr>\n",
       "      <th>5</th>\n",
       "      <td>gs://your_gcloud_bucket_name/food_data/food_da...</td>\n",
       "      <td>30</td>\n",
       "      <td>26</td>\n",
       "      <td>427</td>\n",
       "      <td>384</td>\n",
       "      <td>cake</td>\n",
       "    </tr>\n",
       "    <tr>\n",
       "      <th>6</th>\n",
       "      <td>gs://your_gcloud_bucket_name/food_data/food_da...</td>\n",
       "      <td>53</td>\n",
       "      <td>172</td>\n",
       "      <td>320</td>\n",
       "      <td>466</td>\n",
       "      <td>cake</td>\n",
       "    </tr>\n",
       "  </tbody>\n",
       "</table>\n",
       "</div>"
      ],
      "text/plain": [
       "                                            filename  xmin  ymin  xmax  ymax  \\\n",
       "0  gs://your_gcloud_bucket_name/food_data/food_da...   164    29   487   323   \n",
       "1  gs://your_gcloud_bucket_name/food_data/food_da...    42   259   251   465   \n",
       "2  gs://your_gcloud_bucket_name/food_data/food_da...   139   120   307   298   \n",
       "3  gs://your_gcloud_bucket_name/food_data/food_da...    15    80   367   460   \n",
       "4  gs://your_gcloud_bucket_name/food_data/food_da...     1    82   111   288   \n",
       "5  gs://your_gcloud_bucket_name/food_data/food_da...    30    26   427   384   \n",
       "6  gs://your_gcloud_bucket_name/food_data/food_da...    53   172   320   466   \n",
       "\n",
       "  classes  \n",
       "0    cake  \n",
       "1    cake  \n",
       "2    cake  \n",
       "3    cake  \n",
       "4    cake  \n",
       "5    cake  \n",
       "6    cake  "
      ]
     },
     "execution_count": 11,
     "metadata": {},
     "output_type": "execute_result"
    }
   ],
   "source": [
    "gbucket_path = 'gs://your_gcloud_bucket_name/food_data/'\n",
    "\n",
    "train['filename']= train.filename.apply(lambda x: os.path.join(gbucket_path, x).replace('\\\\', '/'))\n",
    "train.head(7)"
   ]
  },
  {
   "cell_type": "code",
   "execution_count": 12,
   "metadata": {},
   "outputs": [
    {
     "data": {
      "text/plain": [
       "'gs://your_gcloud_bucket_name/food_data/food_data/cake/106496.jpg'"
      ]
     },
     "execution_count": 12,
     "metadata": {},
     "output_type": "execute_result"
    }
   ],
   "source": [
    "train.filename[0]"
   ]
  },
  {
   "cell_type": "code",
   "execution_count": 13,
   "metadata": {},
   "outputs": [
    {
     "name": "stdout",
     "output_type": "stream",
     "text": [
      "gs://your_gcloud_bucket_name/food_data/food_data/cake/106496.jpg,164,29,487,323,cake \n",
      "gs://your_gcloud_bucket_name/food_data/food_data/dosa/aug_91_Copy.jpg,169,228,1369,1985,dosa\n"
     ]
    }
   ],
   "source": [
    "data = pd.DataFrame()\n",
    "data['format']= train[train.columns].apply(lambda x: ','.join(x.astype(str)), axis=1)\n",
    "print(data.format[0],'\\n'+ data.format[770])\n",
    "\n",
    "#data.to_csv('annotations.txt', header=None, index=None, sep=' ')"
   ]
  },
  {
   "cell_type": "code",
   "execution_count": null,
   "metadata": {},
   "outputs": [],
   "source": []
  },
  {
   "cell_type": "markdown",
   "metadata": {},
   "source": [
    "#### [B] Parse CSV file generated by converting xmls"
   ]
  },
  {
   "cell_type": "code",
   "execution_count": 17,
   "metadata": {
    "scrolled": true
   },
   "outputs": [
    {
     "data": {
      "text/html": [
       "<div>\n",
       "<style scoped>\n",
       "    .dataframe tbody tr th:only-of-type {\n",
       "        vertical-align: middle;\n",
       "    }\n",
       "\n",
       "    .dataframe tbody tr th {\n",
       "        vertical-align: top;\n",
       "    }\n",
       "\n",
       "    .dataframe thead th {\n",
       "        text-align: right;\n",
       "    }\n",
       "</style>\n",
       "<table border=\"1\" class=\"dataframe\">\n",
       "  <thead>\n",
       "    <tr style=\"text-align: right;\">\n",
       "      <th></th>\n",
       "      <th>filename</th>\n",
       "      <th>width</th>\n",
       "      <th>height</th>\n",
       "      <th>classes</th>\n",
       "      <th>xmin</th>\n",
       "      <th>ymin</th>\n",
       "      <th>xmax</th>\n",
       "      <th>ymax</th>\n",
       "    </tr>\n",
       "  </thead>\n",
       "  <tbody>\n",
       "    <tr>\n",
       "      <th>0</th>\n",
       "      <td>106496.jpg</td>\n",
       "      <td>512</td>\n",
       "      <td>343</td>\n",
       "      <td>cake</td>\n",
       "      <td>164</td>\n",
       "      <td>29</td>\n",
       "      <td>487</td>\n",
       "      <td>323</td>\n",
       "    </tr>\n",
       "    <tr>\n",
       "      <th>1</th>\n",
       "      <td>106501.jpg</td>\n",
       "      <td>382</td>\n",
       "      <td>512</td>\n",
       "      <td>cake</td>\n",
       "      <td>42</td>\n",
       "      <td>259</td>\n",
       "      <td>251</td>\n",
       "      <td>465</td>\n",
       "    </tr>\n",
       "    <tr>\n",
       "      <th>2</th>\n",
       "      <td>106501.jpg</td>\n",
       "      <td>382</td>\n",
       "      <td>512</td>\n",
       "      <td>cake</td>\n",
       "      <td>139</td>\n",
       "      <td>120</td>\n",
       "      <td>307</td>\n",
       "      <td>298</td>\n",
       "    </tr>\n",
       "    <tr>\n",
       "      <th>3</th>\n",
       "      <td>110954.jpg</td>\n",
       "      <td>384</td>\n",
       "      <td>512</td>\n",
       "      <td>cake</td>\n",
       "      <td>15</td>\n",
       "      <td>80</td>\n",
       "      <td>367</td>\n",
       "      <td>460</td>\n",
       "    </tr>\n",
       "    <tr>\n",
       "      <th>4</th>\n",
       "      <td>110954.jpg</td>\n",
       "      <td>384</td>\n",
       "      <td>512</td>\n",
       "      <td>cake</td>\n",
       "      <td>1</td>\n",
       "      <td>82</td>\n",
       "      <td>111</td>\n",
       "      <td>288</td>\n",
       "    </tr>\n",
       "  </tbody>\n",
       "</table>\n",
       "</div>"
      ],
      "text/plain": [
       "     filename  width  height classes  xmin  ymin  xmax  ymax\n",
       "0  106496.jpg    512     343    cake   164    29   487   323\n",
       "1  106501.jpg    382     512    cake    42   259   251   465\n",
       "2  106501.jpg    382     512    cake   139   120   307   298\n",
       "3  110954.jpg    384     512    cake    15    80   367   460\n",
       "4  110954.jpg    384     512    cake     1    82   111   288"
      ]
     },
     "execution_count": 17,
     "metadata": {},
     "output_type": "execute_result"
    }
   ],
   "source": [
    "train = pd.read_csv(\"food_dataset.csv\")\n",
    "train.head(5)"
   ]
  },
  {
   "cell_type": "code",
   "execution_count": 18,
   "metadata": {},
   "outputs": [
    {
     "data": {
      "text/plain": [
       "cake      439\n",
       "donuts    218\n",
       "dosa      119\n",
       "Name: classes, dtype: int64"
      ]
     },
     "execution_count": 18,
     "metadata": {},
     "output_type": "execute_result"
    }
   ],
   "source": [
    "train['classes'].value_counts()"
   ]
  },
  {
   "cell_type": "markdown",
   "metadata": {},
   "source": [
    "#### • Prefixing a common bucket folder path for cloud training"
   ]
  },
  {
   "cell_type": "code",
   "execution_count": 19,
   "metadata": {},
   "outputs": [
    {
     "data": {
      "text/html": [
       "<div>\n",
       "<style scoped>\n",
       "    .dataframe tbody tr th:only-of-type {\n",
       "        vertical-align: middle;\n",
       "    }\n",
       "\n",
       "    .dataframe tbody tr th {\n",
       "        vertical-align: top;\n",
       "    }\n",
       "\n",
       "    .dataframe thead th {\n",
       "        text-align: right;\n",
       "    }\n",
       "</style>\n",
       "<table border=\"1\" class=\"dataframe\">\n",
       "  <thead>\n",
       "    <tr style=\"text-align: right;\">\n",
       "      <th></th>\n",
       "      <th>filename</th>\n",
       "      <th>width</th>\n",
       "      <th>height</th>\n",
       "      <th>classes</th>\n",
       "      <th>xmin</th>\n",
       "      <th>ymin</th>\n",
       "      <th>xmax</th>\n",
       "      <th>ymax</th>\n",
       "    </tr>\n",
       "  </thead>\n",
       "  <tbody>\n",
       "    <tr>\n",
       "      <th>0</th>\n",
       "      <td>gs://your_gcloud_bucket_name/food_data/106496.jpg</td>\n",
       "      <td>512</td>\n",
       "      <td>343</td>\n",
       "      <td>cake</td>\n",
       "      <td>164</td>\n",
       "      <td>29</td>\n",
       "      <td>487</td>\n",
       "      <td>323</td>\n",
       "    </tr>\n",
       "    <tr>\n",
       "      <th>1</th>\n",
       "      <td>gs://your_gcloud_bucket_name/food_data/106501.jpg</td>\n",
       "      <td>382</td>\n",
       "      <td>512</td>\n",
       "      <td>cake</td>\n",
       "      <td>42</td>\n",
       "      <td>259</td>\n",
       "      <td>251</td>\n",
       "      <td>465</td>\n",
       "    </tr>\n",
       "    <tr>\n",
       "      <th>2</th>\n",
       "      <td>gs://your_gcloud_bucket_name/food_data/106501.jpg</td>\n",
       "      <td>382</td>\n",
       "      <td>512</td>\n",
       "      <td>cake</td>\n",
       "      <td>139</td>\n",
       "      <td>120</td>\n",
       "      <td>307</td>\n",
       "      <td>298</td>\n",
       "    </tr>\n",
       "    <tr>\n",
       "      <th>3</th>\n",
       "      <td>gs://your_gcloud_bucket_name/food_data/110954.jpg</td>\n",
       "      <td>384</td>\n",
       "      <td>512</td>\n",
       "      <td>cake</td>\n",
       "      <td>15</td>\n",
       "      <td>80</td>\n",
       "      <td>367</td>\n",
       "      <td>460</td>\n",
       "    </tr>\n",
       "    <tr>\n",
       "      <th>4</th>\n",
       "      <td>gs://your_gcloud_bucket_name/food_data/110954.jpg</td>\n",
       "      <td>384</td>\n",
       "      <td>512</td>\n",
       "      <td>cake</td>\n",
       "      <td>1</td>\n",
       "      <td>82</td>\n",
       "      <td>111</td>\n",
       "      <td>288</td>\n",
       "    </tr>\n",
       "  </tbody>\n",
       "</table>\n",
       "</div>"
      ],
      "text/plain": [
       "                                            filename  width  height classes  \\\n",
       "0  gs://your_gcloud_bucket_name/food_data/106496.jpg    512     343    cake   \n",
       "1  gs://your_gcloud_bucket_name/food_data/106501.jpg    382     512    cake   \n",
       "2  gs://your_gcloud_bucket_name/food_data/106501.jpg    382     512    cake   \n",
       "3  gs://your_gcloud_bucket_name/food_data/110954.jpg    384     512    cake   \n",
       "4  gs://your_gcloud_bucket_name/food_data/110954.jpg    384     512    cake   \n",
       "\n",
       "   xmin  ymin  xmax  ymax  \n",
       "0   164    29   487   323  \n",
       "1    42   259   251   465  \n",
       "2   139   120   307   298  \n",
       "3    15    80   367   460  \n",
       "4     1    82   111   288  "
      ]
     },
     "execution_count": 19,
     "metadata": {},
     "output_type": "execute_result"
    }
   ],
   "source": [
    "gbucket_path = 'gs://your_gcloud_bucket_name/food_data/'\n",
    "\n",
    "train['filename']= train['filename'].apply(lambda x: gbucket_path +x)#prefixing a common bucket folder path for cloud training\n",
    "train.head(5)"
   ]
  },
  {
   "cell_type": "code",
   "execution_count": 20,
   "metadata": {},
   "outputs": [
    {
     "name": "stdout",
     "output_type": "stream",
     "text": [
      "['filename', 'width', 'height', 'classes', 'xmin', 'ymin', 'xmax', 'ymax']\n"
     ]
    }
   ],
   "source": [
    "print(list(train.columns))"
   ]
  },
  {
   "cell_type": "markdown",
   "metadata": {},
   "source": [
    "#### • Re-arraging columns & dropping irrelavant ones to obtain column order as required"
   ]
  },
  {
   "cell_type": "code",
   "execution_count": 21,
   "metadata": {},
   "outputs": [
    {
     "data": {
      "text/html": [
       "<div>\n",
       "<style scoped>\n",
       "    .dataframe tbody tr th:only-of-type {\n",
       "        vertical-align: middle;\n",
       "    }\n",
       "\n",
       "    .dataframe tbody tr th {\n",
       "        vertical-align: top;\n",
       "    }\n",
       "\n",
       "    .dataframe thead th {\n",
       "        text-align: right;\n",
       "    }\n",
       "</style>\n",
       "<table border=\"1\" class=\"dataframe\">\n",
       "  <thead>\n",
       "    <tr style=\"text-align: right;\">\n",
       "      <th></th>\n",
       "      <th>filename</th>\n",
       "      <th>xmin</th>\n",
       "      <th>ymin</th>\n",
       "      <th>xmax</th>\n",
       "      <th>ymax</th>\n",
       "      <th>classes</th>\n",
       "    </tr>\n",
       "  </thead>\n",
       "  <tbody>\n",
       "    <tr>\n",
       "      <th>0</th>\n",
       "      <td>gs://your_gcloud_bucket_name/food_data/106496.jpg</td>\n",
       "      <td>164</td>\n",
       "      <td>29</td>\n",
       "      <td>487</td>\n",
       "      <td>323</td>\n",
       "      <td>cake</td>\n",
       "    </tr>\n",
       "    <tr>\n",
       "      <th>1</th>\n",
       "      <td>gs://your_gcloud_bucket_name/food_data/106501.jpg</td>\n",
       "      <td>42</td>\n",
       "      <td>259</td>\n",
       "      <td>251</td>\n",
       "      <td>465</td>\n",
       "      <td>cake</td>\n",
       "    </tr>\n",
       "    <tr>\n",
       "      <th>2</th>\n",
       "      <td>gs://your_gcloud_bucket_name/food_data/106501.jpg</td>\n",
       "      <td>139</td>\n",
       "      <td>120</td>\n",
       "      <td>307</td>\n",
       "      <td>298</td>\n",
       "      <td>cake</td>\n",
       "    </tr>\n",
       "    <tr>\n",
       "      <th>3</th>\n",
       "      <td>gs://your_gcloud_bucket_name/food_data/110954.jpg</td>\n",
       "      <td>15</td>\n",
       "      <td>80</td>\n",
       "      <td>367</td>\n",
       "      <td>460</td>\n",
       "      <td>cake</td>\n",
       "    </tr>\n",
       "  </tbody>\n",
       "</table>\n",
       "</div>"
      ],
      "text/plain": [
       "                                            filename  xmin  ymin  xmax  ymax  \\\n",
       "0  gs://your_gcloud_bucket_name/food_data/106496.jpg   164    29   487   323   \n",
       "1  gs://your_gcloud_bucket_name/food_data/106501.jpg    42   259   251   465   \n",
       "2  gs://your_gcloud_bucket_name/food_data/106501.jpg   139   120   307   298   \n",
       "3  gs://your_gcloud_bucket_name/food_data/110954.jpg    15    80   367   460   \n",
       "\n",
       "  classes  \n",
       "0    cake  \n",
       "1    cake  \n",
       "2    cake  \n",
       "3    cake  "
      ]
     },
     "execution_count": 21,
     "metadata": {},
     "output_type": "execute_result"
    }
   ],
   "source": [
    "train = train[['filename', 'xmin', 'ymin', 'xmax', 'ymax', 'classes']]#re-arraging the column order as required & dropping irrelavant columns of width and height\n",
    "train.head(4)"
   ]
  },
  {
   "cell_type": "markdown",
   "metadata": {},
   "source": [
    "#### Concatenating columns of _train_ to a new dataframe _data_; And saving as annotations text file. ."
   ]
  },
  {
   "cell_type": "code",
   "execution_count": 22,
   "metadata": {},
   "outputs": [
    {
     "name": "stdout",
     "output_type": "stream",
     "text": [
      "gs://your_gcloud_bucket_name/food_data/106496.jpg,164,29,487,323,cake \n",
      " gs://your_gcloud_bucket_name/food_data/aug_91.jpg,8,2,1039,1199,dosa\n"
     ]
    }
   ],
   "source": [
    "data = pd.DataFrame()\n",
    "data['format']= train[train.columns].apply(lambda x: ','.join(x.astype(str)), axis=1)\n",
    "print(data.format[0], '\\n', data.format[770])\n",
    "\n",
    "#data.to_csv('annotations.txt', header=None, index=None, sep=' ')"
   ]
  },
  {
   "cell_type": "code",
   "execution_count": null,
   "metadata": {},
   "outputs": [],
   "source": []
  },
  {
   "cell_type": "markdown",
   "metadata": {},
   "source": [
    "## ◘ Also\n",
    "#### Save above dataframe as a pickled dictionary."
   ]
  },
  {
   "cell_type": "code",
   "execution_count": 26,
   "metadata": {},
   "outputs": [],
   "source": [
    "import pickle\n",
    "\n",
    "with open('data.pickle','wb') as file:\n",
    "    #pickle.dump(data['format'], file)#pickling above dataframe.format as dataframe\n",
    "    pickle.dump(dict(data['format']), file)#pickling above dataframe.format as dictionary\n",
    "    \n",
    "file.close()"
   ]
  },
  {
   "cell_type": "markdown",
   "metadata": {},
   "source": [
    "##### • test reading the pickled file"
   ]
  },
  {
   "cell_type": "code",
   "execution_count": 27,
   "metadata": {},
   "outputs": [
    {
     "name": "stdout",
     "output_type": "stream",
     "text": [
      "{0: 'gs://your_gcloud_bucket_name/food_data/106496.jpg,164,29,487,323,cake', 1: 'gs://your_gcloud_bucket_name/food_data/106501.jpg,42,259,251,465,cake', 2: 'gs://your_gcloud_bucket_name/food_data/106501.jpg,139,120,307,298,cake', 3: 'gs://your_gcloud_bucket_name/food_data/110954.jpg,15,80,367,460,cake', 4: 'gs://your_gcloud_bucket_name/food_data/110954.jpg,1,82,111,288,cake', 5: 'gs://your_gcloud_bucket_name/food_data/112438.jpg,30,26,427,384,cake', 6: 'gs://your_gcloud_bucket_name/food_data/114735.jpg,53,172,320,466,cake', 7: 'gs://your_gcloud_bucket_name/food_data/114847.jpg,45,132,261,331,cake', 8: 'gs://your_gcloud_bucket_name/food_data/114847.jpg,255,69,464,274,cake', 9: 'gs://your_gcloud_bucket_name/food_data/122408.jpg,112,139,240,269,cake', 10: 'gs://your_gcloud_bucket_name/food_data/122408.jpg,199,193,335,326,cake', 11: 'gs://your_gcloud_bucket_name/food_data/122408.jpg,264,118,403,260,cake', 12: 'gs://your_gcloud_bucket_name/food_data/125669.jpg,10,115,117,212,cake', 13: 'gs://your_gcloud_bucket_name/food_data/125669.jpg,118,89,229,188,cake', 14: 'gs://your_gcloud_bucket_name/food_data/125669.jpg,1,188,95,311,cake', 15: 'gs://your_gcloud_bucket_name/food_data/125669.jpg,103,163,232,293,cake', 16: 'gs://your_gcloud_bucket_name/food_data/125669.jpg,230,181,356,320,cake', 17: 'gs://your_gcloud_bucket_name/food_data/125669.jpg,354,175,487,320,cake', 18: 'gs://your_gcloud_bucket_name/food_data/125669.jpg,333,102,456,219,cake', 19: 'gs://your_gcloud_bucket_name/food_data/125669.jpg,219,107,335,203,cake', 20: 'gs://your_gcloud_bucket_name/food_data/125669.jpg,150,37,244,117,cake', 21: 'gs://your_gcloud_bucket_name/food_data/125669.jpg,247,40,348,123,cake', 22: 'gs://your_gcloud_bucket_name/food_data/125669.jpg,352,38,447,127,cake', 23: 'gs://your_gcloud_bucket_name/food_data/125669.jpg,429,16,508,106,cake', 24: 'gs://your_gcloud_bucket_name/food_data/125672.jpg,85,27,411,351,cake', 25: 'gs://your_gcloud_bucket_name/food_data/125679.jpg,34,240,73,275,cake', 26: 'gs://your_gcloud_bucket_name/food_data/125679.jpg,3,268,43,313,cake', 27: 'gs://your_gcloud_bucket_name/food_data/125679.jpg,77,270,114,314,cake', 28: 'gs://your_gcloud_bucket_name/food_data/125679.jpg,40,287,79,334,cake', 29: 'gs://your_gcloud_bucket_name/food_data/125679.jpg,156,288,195,328,cake', 30: 'gs://your_gcloud_bucket_name/food_data/125679.jpg,200,290,241,331,cake', 31: 'gs://your_gcloud_bucket_name/food_data/125679.jpg,132,68,158,102,cake', 32: 'gs://your_gcloud_bucket_name/food_data/125679.jpg,223,79,254,107,cake', 33: 'gs://your_gcloud_bucket_name/food_data/125679.jpg,277,83,304,110,cake', 34: 'gs://your_gcloud_bucket_name/food_data/125679.jpg,277,283,319,321,cake', 35: 'gs://your_gcloud_bucket_name/food_data/125679.jpg,324,285,360,328,cake', 36: 'gs://your_gcloud_bucket_name/food_data/125679.jpg,401,288,446,328,cake', 37: 'gs://your_gcloud_bucket_name/food_data/125679.jpg,450,280,492,322,cake', 38: 'gs://your_gcloud_bucket_name/food_data/125679.jpg,408,241,448,272,cake', 39: 'gs://your_gcloud_bucket_name/food_data/125679.jpg,318,213,342,238,cake', 40: 'gs://your_gcloud_bucket_name/food_data/125679.jpg,122,211,163,243,cake', 41: 'gs://your_gcloud_bucket_name/food_data/125679.jpg,14,74,42,102,cake', 42: 'gs://your_gcloud_bucket_name/food_data/125679.jpg,65,76,92,107,cake', 43: 'gs://your_gcloud_bucket_name/food_data/125679.jpg,159,77,183,110,cake', 44: 'gs://your_gcloud_bucket_name/food_data/125679.jpg,435,87,463,113,cake', 45: 'gs://your_gcloud_bucket_name/food_data/125679.jpg,161,254,202,295,cake', 46: 'gs://your_gcloud_bucket_name/food_data/125679.jpg,203,256,241,290,cake', 47: 'gs://your_gcloud_bucket_name/food_data/125679.jpg,379,87,408,117,cake', 48: 'gs://your_gcloud_bucket_name/food_data/125679.jpg,335,86,378,114,cake', 49: 'gs://your_gcloud_bucket_name/food_data/125679.jpg,465,81,508,117,cake', 50: 'gs://your_gcloud_bucket_name/food_data/125679.jpg,345,211,380,239,cake', 51: 'gs://your_gcloud_bucket_name/food_data/125679.jpg,167,210,199,245,cake', 52: 'gs://your_gcloud_bucket_name/food_data/125679.jpg,250,66,277,109,cake', 53: 'gs://your_gcloud_bucket_name/food_data/125679.jpg,425,65,453,95,cake', 54: 'gs://your_gcloud_bucket_name/food_data/125679.jpg,281,256,316,281,cake', 55: 'gs://your_gcloud_bucket_name/food_data/125679.jpg,321,262,351,289,cake', 56: 'gs://your_gcloud_bucket_name/food_data/125762.jpg,93,403,190,512,cake', 57: 'gs://your_gcloud_bucket_name/food_data/125762.jpg,212,395,317,500,cake', 58: 'gs://your_gcloud_bucket_name/food_data/125762.jpg,272,353,366,450,cake', 59: 'gs://your_gcloud_bucket_name/food_data/125762.jpg,238,318,320,361,cake', 60: 'gs://your_gcloud_bucket_name/food_data/125762.jpg,180,353,269,403,cake', 61: 'gs://your_gcloud_bucket_name/food_data/125762.jpg,88,357,172,403,cake', 62: 'gs://your_gcloud_bucket_name/food_data/125762.jpg,1,399,94,501,cake', 63: 'gs://your_gcloud_bucket_name/food_data/125762.jpg,2,352,83,401,cake', 64: 'gs://your_gcloud_bucket_name/food_data/12912.jpg,3,206,251,502,cake', 65: 'gs://your_gcloud_bucket_name/food_data/12912.jpg,252,287,508,502,cake', 66: 'gs://your_gcloud_bucket_name/food_data/12912.jpg,229,166,467,293,cake', 67: 'gs://your_gcloud_bucket_name/food_data/12912.jpg,14,117,226,254,cake', 68: 'gs://your_gcloud_bucket_name/food_data/12912.jpg,233,62,429,181,cake', 69: 'gs://your_gcloud_bucket_name/food_data/12912.jpg,48,27,236,157,cake', 70: 'gs://your_gcloud_bucket_name/food_data/132594.jpg,3,203,184,389,cake', 71: 'gs://your_gcloud_bucket_name/food_data/132594.jpg,199,200,379,398,cake', 72: 'gs://your_gcloud_bucket_name/food_data/132594.jpg,34,146,182,217,cake', 73: 'gs://your_gcloud_bucket_name/food_data/132594.jpg,184,159,321,221,cake', 74: 'gs://your_gcloud_bucket_name/food_data/132791.jpg,25,53,296,336,cake', 75: 'gs://your_gcloud_bucket_name/food_data/134293.jpg,256,12,355,109,cake', 76: 'gs://your_gcloud_bucket_name/food_data/134301.jpg,49,8,270,239,cake', 77: 'gs://your_gcloud_bucket_name/food_data/134301.jpg,212,52,484,368,cake', 78: 'gs://your_gcloud_bucket_name/food_data/134310.jpg,42,9,344,373,cake', 79: 'gs://your_gcloud_bucket_name/food_data/137287.jpg,106,49,344,356,cake', 80: 'gs://your_gcloud_bucket_name/food_data/137560.jpg,169,64,320,218,cake', 81: 'gs://your_gcloud_bucket_name/food_data/137560.jpg,333,54,490,217,cake', 82: 'gs://your_gcloud_bucket_name/food_data/137560.jpg,336,214,506,381,cake', 83: 'gs://your_gcloud_bucket_name/food_data/137560.jpg,166,397,313,512,cake', 84: 'gs://your_gcloud_bucket_name/food_data/137560.jpg,3,235,133,393,cake', 85: 'gs://your_gcloud_bucket_name/food_data/137560.jpg,22,421,159,512,cake', 86: 'gs://your_gcloud_bucket_name/food_data/137560.jpg,334,383,504,512,cake', 87: 'gs://your_gcloud_bucket_name/food_data/137560.jpg,44,80,166,219,cake', 88: 'gs://your_gcloud_bucket_name/food_data/137560.jpg,164,217,322,370,cake', 89: 'gs://your_gcloud_bucket_name/food_data/13821.jpg,101,136,313,370,cake', 90: 'gs://your_gcloud_bucket_name/food_data/13821.jpg,299,117,492,322,cake', 91: 'gs://your_gcloud_bucket_name/food_data/13821.jpg,147,70,308,159,cake', 92: 'gs://your_gcloud_bucket_name/food_data/13821.jpg,3,83,142,287,cake', 93: 'gs://your_gcloud_bucket_name/food_data/138678.jpg,23,238,98,305,cake', 94: 'gs://your_gcloud_bucket_name/food_data/138678.jpg,70,296,150,373,cake', 95: 'gs://your_gcloud_bucket_name/food_data/138678.jpg,413,223,485,307,cake', 96: 'gs://your_gcloud_bucket_name/food_data/138678.jpg,59,2,445,327,cake', 97: 'gs://your_gcloud_bucket_name/food_data/138678.jpg,224,340,300,384,cake', 98: 'gs://your_gcloud_bucket_name/food_data/138678.jpg,303,322,393,384,cake', 99: 'gs://your_gcloud_bucket_name/food_data/138678.jpg,7,181,69,237,cake', 100: 'gs://your_gcloud_bucket_name/food_data/138678.jpg,19,123,64,179,cake', 101: 'gs://your_gcloud_bucket_name/food_data/138678.jpg,437,164,495,223,cake', 102: 'gs://your_gcloud_bucket_name/food_data/138678.jpg,137,331,222,384,cake', 103: 'gs://your_gcloud_bucket_name/food_data/139085.jpg,3,9,403,507,cake', 104: 'gs://your_gcloud_bucket_name/food_data/140828.jpg,106,59,250,156,cake', 105: 'gs://your_gcloud_bucket_name/food_data/140828.jpg,334,90,474,178,cake', 106: 'gs://your_gcloud_bucket_name/food_data/140828.jpg,240,48,358,165,cake', 107: 'gs://your_gcloud_bucket_name/food_data/144601.jpg,14,81,245,336,cake', 108: 'gs://your_gcloud_bucket_name/food_data/144601.jpg,241,138,507,382,cake', 109: 'gs://your_gcloud_bucket_name/food_data/144601.jpg,192,1,383,158,cake', 110: 'gs://your_gcloud_bucket_name/food_data/145254.jpg,15,47,238,275,cake', 111: 'gs://your_gcloud_bucket_name/food_data/145254.jpg,260,31,497,275,cake', 112: 'gs://your_gcloud_bucket_name/food_data/145418.jpg,1,192,172,371,cake', 113: 'gs://your_gcloud_bucket_name/food_data/145418.jpg,91,317,302,511,cake', 114: 'gs://your_gcloud_bucket_name/food_data/145418.jpg,206,138,384,365,cake', 115: 'gs://your_gcloud_bucket_name/food_data/145418.jpg,84,86,263,245,cake', 116: 'gs://your_gcloud_bucket_name/food_data/145993.jpg,36,226,150,323,cake', 117: 'gs://your_gcloud_bucket_name/food_data/145993.jpg,162,227,266,326,cake', 118: 'gs://your_gcloud_bucket_name/food_data/145993.jpg,280,228,384,324,cake', 119: 'gs://your_gcloud_bucket_name/food_data/145993.jpg,397,233,498,329,cake', 120: 'gs://your_gcloud_bucket_name/food_data/145993.jpg,382,134,477,228,cake', 121: 'gs://your_gcloud_bucket_name/food_data/145993.jpg,277,138,371,226,cake', 122: 'gs://your_gcloud_bucket_name/food_data/145993.jpg,168,128,266,226,cake', 123: 'gs://your_gcloud_bucket_name/food_data/145993.jpg,61,127,160,217,cake', 124: 'gs://your_gcloud_bucket_name/food_data/145993.jpg,175,45,265,127,cake', 125: 'gs://your_gcloud_bucket_name/food_data/149192.jpg,295,261,385,330,cake', 126: 'gs://your_gcloud_bucket_name/food_data/149192.jpg,389,268,478,345,cake', 127: 'gs://your_gcloud_bucket_name/food_data/149192.jpg,206,257,295,310,cake', 128: 'gs://your_gcloud_bucket_name/food_data/149192.jpg,51,210,173,255,cake', 129: 'gs://your_gcloud_bucket_name/food_data/149192.jpg,256,234,331,261,cake', 130: 'gs://your_gcloud_bucket_name/food_data/149896.jpg,4,92,384,447,cake', 131: 'gs://your_gcloud_bucket_name/food_data/152190.jpg,39,329,206,480,cake', 132: 'gs://your_gcloud_bucket_name/food_data/152190.jpg,188,172,305,297,cake', 133: 'gs://your_gcloud_bucket_name/food_data/152190.jpg,22,119,130,227,cake', 134: 'gs://your_gcloud_bucket_name/food_data/152190.jpg,214,91,296,171,cake', 135: 'gs://your_gcloud_bucket_name/food_data/152190.jpg,295,50,362,119,cake', 136: 'gs://your_gcloud_bucket_name/food_data/152190.jpg,52,52,130,125,cake', 137: 'gs://your_gcloud_bucket_name/food_data/152190.jpg,160,29,229,99,cake', 138: 'gs://your_gcloud_bucket_name/food_data/153172.jpg,158,186,359,383,cake', 139: 'gs://your_gcloud_bucket_name/food_data/153172.jpg,361,203,509,384,cake', 140: 'gs://your_gcloud_bucket_name/food_data/153172.jpg,164,41,333,189,cake', 141: 'gs://your_gcloud_bucket_name/food_data/153172.jpg,341,35,506,203,cake', 142: 'gs://your_gcloud_bucket_name/food_data/153172.jpg,1,44,167,197,cake', 143: 'gs://your_gcloud_bucket_name/food_data/153172.jpg,2,197,161,384,cake', 144: 'gs://your_gcloud_bucket_name/food_data/154146.jpg,132,58,412,344,cake', 145: 'gs://your_gcloud_bucket_name/food_data/15425.jpg,47,73,351,457,cake', 146: 'gs://your_gcloud_bucket_name/food_data/158034.jpg,261,127,459,317,cake', 147: 'gs://your_gcloud_bucket_name/food_data/158588.jpg,91,163,281,338,cake', 148: 'gs://your_gcloud_bucket_name/food_data/158588.jpg,292,149,467,316,cake', 149: 'gs://your_gcloud_bucket_name/food_data/158588.jpg,179,41,336,161,cake', 150: 'gs://your_gcloud_bucket_name/food_data/162029.jpg,6,68,366,495,cake', 151: 'gs://your_gcloud_bucket_name/food_data/164736.jpg,204,118,279,170,cake', 152: 'gs://your_gcloud_bucket_name/food_data/164736.jpg,278,123,344,179,cake', 153: 'gs://your_gcloud_bucket_name/food_data/164736.jpg,198,190,288,270,cake', 154: 'gs://your_gcloud_bucket_name/food_data/164736.jpg,295,189,388,264,cake', 155: 'gs://your_gcloud_bucket_name/food_data/164736.jpg,404,157,494,213,cake', 156: 'gs://your_gcloud_bucket_name/food_data/164736.jpg,424,202,512,278,cake', 157: 'gs://your_gcloud_bucket_name/food_data/164736.jpg,79,149,163,217,cake', 158: 'gs://your_gcloud_bucket_name/food_data/164736.jpg,50,202,145,279,cake', 159: 'gs://your_gcloud_bucket_name/food_data/164736.jpg,1,155,80,218,cake', 160: 'gs://your_gcloud_bucket_name/food_data/164736.jpg,41,121,106,151,cake', 161: 'gs://your_gcloud_bucket_name/food_data/164736.jpg,382,122,445,161,cake', 162: 'gs://your_gcloud_bucket_name/food_data/16628.jpg,125,107,245,228,cake', 163: 'gs://your_gcloud_bucket_name/food_data/16628.jpg,256,63,365,169,cake', 164: 'gs://your_gcloud_bucket_name/food_data/16628.jpg,313,181,437,303,cake', 165: 'gs://your_gcloud_bucket_name/food_data/16628.jpg,152,238,285,360,cake', 166: 'gs://your_gcloud_bucket_name/food_data/166449.jpg,35,139,122,218,cake', 167: 'gs://your_gcloud_bucket_name/food_data/166449.jpg,152,136,240,213,cake', 168: 'gs://your_gcloud_bucket_name/food_data/166449.jpg,136,237,243,331,cake', 169: 'gs://your_gcloud_bucket_name/food_data/166449.jpg,286,242,376,324,cake', 170: 'gs://your_gcloud_bucket_name/food_data/166449.jpg,414,245,503,322,cake', 171: 'gs://your_gcloud_bucket_name/food_data/166449.jpg,386,135,466,211,cake', 172: 'gs://your_gcloud_bucket_name/food_data/166449.jpg,366,62,448,122,cake', 173: 'gs://your_gcloud_bucket_name/food_data/166449.jpg,271,60,341,118,cake', 174: 'gs://your_gcloud_bucket_name/food_data/166449.jpg,12,237,105,334,cake', 175: 'gs://your_gcloud_bucket_name/food_data/166449.jpg,57,59,130,112,cake', 176: 'gs://your_gcloud_bucket_name/food_data/166449.jpg,159,59,239,117,cake', 177: 'gs://your_gcloud_bucket_name/food_data/166449.jpg,271,139,356,206,cake', 178: 'gs://your_gcloud_bucket_name/food_data/166543.jpg,172,96,242,158,cake', 179: 'gs://your_gcloud_bucket_name/food_data/166543.jpg,77,89,140,127,cake', 180: 'gs://your_gcloud_bucket_name/food_data/166543.jpg,92,124,162,181,cake', 181: 'gs://your_gcloud_bucket_name/food_data/166543.jpg,62,57,128,100,cake', 182: 'gs://your_gcloud_bucket_name/food_data/166543.jpg,139,64,197,117,cake', 183: 'gs://your_gcloud_bucket_name/food_data/166543.jpg,246,75,308,133,cake', 184: 'gs://your_gcloud_bucket_name/food_data/166543.jpg,216,28,271,77,cake', 185: 'gs://your_gcloud_bucket_name/food_data/166543.jpg,328,49,387,112,cake', 186: 'gs://your_gcloud_bucket_name/food_data/166543.jpg,292,7,347,65,cake', 187: 'gs://your_gcloud_bucket_name/food_data/166543.jpg,455,4,508,60,cake', 188: 'gs://your_gcloud_bucket_name/food_data/166543.jpg,2,71,50,117,cake', 189: 'gs://your_gcloud_bucket_name/food_data/167113.jpg,175,68,264,150,cake', 190: 'gs://your_gcloud_bucket_name/food_data/167113.jpg,275,68,363,148,cake', 191: 'gs://your_gcloud_bucket_name/food_data/167113.jpg,289,247,395,350,cake', 192: 'gs://your_gcloud_bucket_name/food_data/167113.jpg,170,250,282,348,cake', 193: 'gs://your_gcloud_bucket_name/food_data/167113.jpg,76,68,166,148,cake', 194: 'gs://your_gcloud_bucket_name/food_data/167113.jpg,77,152,156,238,cake', 195: 'gs://your_gcloud_bucket_name/food_data/167113.jpg,60,248,156,347,cake', 196: 'gs://your_gcloud_bucket_name/food_data/167113.jpg,388,145,465,233,cake', 197: 'gs://your_gcloud_bucket_name/food_data/168914.jpg,55,56,181,176,cake', 198: 'gs://your_gcloud_bucket_name/food_data/168914.jpg,193,55,317,178,cake', 199: 'gs://your_gcloud_bucket_name/food_data/168914.jpg,329,52,452,177,cake', 200: 'gs://your_gcloud_bucket_name/food_data/168914.jpg,42,208,173,334,cake', 201: 'gs://your_gcloud_bucket_name/food_data/168914.jpg,193,205,329,335,cake', 202: 'gs://your_gcloud_bucket_name/food_data/168914.jpg,329,196,472,336,cake', 203: 'gs://your_gcloud_bucket_name/food_data/169107.jpg,116,83,207,168,cake', 204: 'gs://your_gcloud_bucket_name/food_data/169107.jpg,173,174,281,257,cake', 205: 'gs://your_gcloud_bucket_name/food_data/169107.jpg,281,176,370,265,cake', 206: 'gs://your_gcloud_bucket_name/food_data/169107.jpg,81,170,172,256,cake', 207: 'gs://your_gcloud_bucket_name/food_data/169107.jpg,206,96,289,173,cake', 208: 'gs://your_gcloud_bucket_name/food_data/171838.jpg,43,98,281,330,cake', 209: 'gs://your_gcloud_bucket_name/food_data/171838.jpg,224,2,428,189,cake', 210: 'gs://your_gcloud_bucket_name/food_data/172692.jpg,330,85,419,165,cake', 211: 'gs://your_gcloud_bucket_name/food_data/172692.jpg,381,276,465,357,cake', 212: 'gs://your_gcloud_bucket_name/food_data/172692.jpg,128,294,180,340,cake', 213: 'gs://your_gcloud_bucket_name/food_data/172692.jpg,54,243,102,278,cake', 214: 'gs://your_gcloud_bucket_name/food_data/172692.jpg,29,95,73,125,cake', 215: 'gs://your_gcloud_bucket_name/food_data/172692.jpg,217,291,263,335,cake', 216: 'gs://your_gcloud_bucket_name/food_data/172692.jpg,257,200,321,259,cake', 217: 'gs://your_gcloud_bucket_name/food_data/172692.jpg,206,168,264,209,cake', 218: 'gs://your_gcloud_bucket_name/food_data/172692.jpg,256,61,337,125,cake', 219: 'gs://your_gcloud_bucket_name/food_data/172692.jpg,203,41,280,88,cake', 220: 'gs://your_gcloud_bucket_name/food_data/172692.jpg,98,15,157,55,cake', 221: 'gs://your_gcloud_bucket_name/food_data/172692.jpg,264,324,332,375,cake', 222: 'gs://your_gcloud_bucket_name/food_data/172692.jpg,306,230,377,308,cake', 223: 'gs://your_gcloud_bucket_name/food_data/172900.jpg,291,319,322,351,cake', 224: 'gs://your_gcloud_bucket_name/food_data/172900.jpg,295,389,325,416,cake', 225: 'gs://your_gcloud_bucket_name/food_data/172900.jpg,160,306,189,344,cake', 226: 'gs://your_gcloud_bucket_name/food_data/172900.jpg,292,355,323,386,cake', 227: 'gs://your_gcloud_bucket_name/food_data/172900.jpg,325,427,363,461,cake', 228: 'gs://your_gcloud_bucket_name/food_data/172900.jpg,67,414,115,455,cake', 229: 'gs://your_gcloud_bucket_name/food_data/172900.jpg,24,264,59,297,cake', 230: 'gs://your_gcloud_bucket_name/food_data/172900.jpg,61,271,93,302,cake', 231: 'gs://your_gcloud_bucket_name/food_data/172900.jpg,133,380,165,415,cake', 232: 'gs://your_gcloud_bucket_name/food_data/172900.jpg,164,343,198,378,cake', 233: 'gs://your_gcloud_bucket_name/food_data/172900.jpg,328,313,357,346,cake', 234: 'gs://your_gcloud_bucket_name/food_data/172900.jpg,332,348,358,380,cake', 235: 'gs://your_gcloud_bucket_name/food_data/172900.jpg,326,388,360,419,cake', 236: 'gs://your_gcloud_bucket_name/food_data/172900.jpg,292,281,329,314,cake', 237: 'gs://your_gcloud_bucket_name/food_data/172900.jpg,125,313,159,348,cake', 238: 'gs://your_gcloud_bucket_name/food_data/178439.jpg,14,95,222,323,cake', 239: 'gs://your_gcloud_bucket_name/food_data/178439.jpg,238,94,418,311,cake', 240: 'gs://your_gcloud_bucket_name/food_data/179835.jpg,83,172,332,446,cake', 241: 'gs://your_gcloud_bucket_name/food_data/182075.jpg,1,58,353,355,cake', 242: 'gs://your_gcloud_bucket_name/food_data/182075.jpg,282,1,512,135,cake', 243: 'gs://your_gcloud_bucket_name/food_data/182075.jpg,1,2,117,110,cake', 244: 'gs://your_gcloud_bucket_name/food_data/182235.jpg,315,202,445,320,cake', 245: 'gs://your_gcloud_bucket_name/food_data/182235.jpg,312,83,413,182,cake', 246: 'gs://your_gcloud_bucket_name/food_data/182235.jpg,206,77,304,179,cake', 247: 'gs://your_gcloud_bucket_name/food_data/182235.jpg,79,209,203,329,cake', 248: 'gs://your_gcloud_bucket_name/food_data/182235.jpg,204,196,320,316,cake', 249: 'gs://your_gcloud_bucket_name/food_data/182235.jpg,100,75,197,175,cake', 250: 'gs://your_gcloud_bucket_name/food_data/185423.jpg,278,30,458,181,cake', 251: 'gs://your_gcloud_bucket_name/food_data/185423.jpg,306,178,509,363,cake', 252: 'gs://your_gcloud_bucket_name/food_data/185423.jpg,60,159,277,367,cake', 253: 'gs://your_gcloud_bucket_name/food_data/185423.jpg,77,31,255,162,cake', 254: 'gs://your_gcloud_bucket_name/food_data/20377.jpg,13,2,209,231,cake', 255: 'gs://your_gcloud_bucket_name/food_data/20377.jpg,134,202,384,470,cake', 256: 'gs://your_gcloud_bucket_name/food_data/20377.jpg,200,47,384,206,cake', 257: 'gs://your_gcloud_bucket_name/food_data/20827.jpg,149,103,319,273,cake', 258: 'gs://your_gcloud_bucket_name/food_data/20827.jpg,204,220,394,384,cake', 259: 'gs://your_gcloud_bucket_name/food_data/20827.jpg,313,122,431,235,cake', 260: 'gs://your_gcloud_bucket_name/food_data/20827.jpg,387,223,508,353,cake', 261: 'gs://your_gcloud_bucket_name/food_data/20922.jpg,80,259,175,354,cake', 262: 'gs://your_gcloud_bucket_name/food_data/20922.jpg,207,269,299,365,cake', 263: 'gs://your_gcloud_bucket_name/food_data/20922.jpg,161,202,249,277,cake', 264: 'gs://your_gcloud_bucket_name/food_data/20922.jpg,82,171,169,249,cake', 265: 'gs://your_gcloud_bucket_name/food_data/20922.jpg,1,195,88,277,cake', 266: 'gs://your_gcloud_bucket_name/food_data/20922.jpg,3,124,82,195,cake', 267: 'gs://your_gcloud_bucket_name/food_data/20922.jpg,83,106,159,169,cake', 268: 'gs://your_gcloud_bucket_name/food_data/20922.jpg,32,64,107,123,cake', 269: 'gs://your_gcloud_bucket_name/food_data/20922.jpg,97,32,171,92,cake', 270: 'gs://your_gcloud_bucket_name/food_data/20922.jpg,156,90,232,162,cake', 271: 'gs://your_gcloud_bucket_name/food_data/20922.jpg,284,229,375,309,cake', 272: 'gs://your_gcloud_bucket_name/food_data/35914.jpg,185,220,267,297,cake', 273: 'gs://your_gcloud_bucket_name/food_data/35914.jpg,160,184,231,233,cake', 274: 'gs://your_gcloud_bucket_name/food_data/35914.jpg,231,193,303,235,cake', 275: 'gs://your_gcloud_bucket_name/food_data/35914.jpg,23,120,93,155,cake', 276: 'gs://your_gcloud_bucket_name/food_data/35914.jpg,1,148,60,233,cake', 277: 'gs://your_gcloud_bucket_name/food_data/35914.jpg,315,192,382,227,cake', 278: 'gs://your_gcloud_bucket_name/food_data/35914.jpg,288,216,360,261,cake', 279: 'gs://your_gcloud_bucket_name/food_data/35914.jpg,384,61,440,113,cake', 280: 'gs://your_gcloud_bucket_name/food_data/35914.jpg,222,80,284,134,cake', 281: 'gs://your_gcloud_bucket_name/food_data/35914.jpg,160,82,223,132,cake', 282: 'gs://your_gcloud_bucket_name/food_data/35914.jpg,202,168,264,202,cake', 283: 'gs://your_gcloud_bucket_name/food_data/35914.jpg,265,165,325,206,cake', 284: 'gs://your_gcloud_bucket_name/food_data/35914.jpg,430,43,480,83,cake', 285: 'gs://your_gcloud_bucket_name/food_data/38668.jpg,69,96,204,234,cake', 286: 'gs://your_gcloud_bucket_name/food_data/38668.jpg,5,232,151,367,cake', 287: 'gs://your_gcloud_bucket_name/food_data/38668.jpg,172,278,328,413,cake', 288: 'gs://your_gcloud_bucket_name/food_data/38668.jpg,203,137,346,268,cake', 289: 'gs://your_gcloud_bucket_name/food_data/42122.jpg,140,125,239,233,cake', 290: 'gs://your_gcloud_bucket_name/food_data/42122.jpg,360,181,465,293,cake', 291: 'gs://your_gcloud_bucket_name/food_data/42122.jpg,131,249,247,368,cake', 292: 'gs://your_gcloud_bucket_name/food_data/43060.jpg,95,8,393,334,cake', 293: 'gs://your_gcloud_bucket_name/food_data/45191.jpg,83,112,222,251,cake', 294: 'gs://your_gcloud_bucket_name/food_data/45191.jpg,155,229,292,361,cake', 295: 'gs://your_gcloud_bucket_name/food_data/45191.jpg,145,358,282,490,cake', 296: 'gs://your_gcloud_bucket_name/food_data/45191.jpg,150,2,288,134,cake', 297: 'gs://your_gcloud_bucket_name/food_data/46500.jpg,288,192,318,226,cake', 298: 'gs://your_gcloud_bucket_name/food_data/47178.jpg,65,132,249,356,cake', 299: 'gs://your_gcloud_bucket_name/food_data/47748.jpg,212,39,363,175,cake', 300: 'gs://your_gcloud_bucket_name/food_data/47748.jpg,1,77,147,250,cake', 301: 'gs://your_gcloud_bucket_name/food_data/47748.jpg,4,278,214,512,cake', 302: 'gs://your_gcloud_bucket_name/food_data/49212.jpg,121,70,398,332,cake', 303: 'gs://your_gcloud_bucket_name/food_data/51424.jpg,96,1,427,373,cake', 304: 'gs://your_gcloud_bucket_name/food_data/53307.jpg,15,82,242,318,cake', 305: 'gs://your_gcloud_bucket_name/food_data/53307.jpg,236,107,469,333,cake', 306: 'gs://your_gcloud_bucket_name/food_data/54293.jpg,4,22,452,384,cake', 307: 'gs://your_gcloud_bucket_name/food_data/56108.jpg,6,17,384,388,cake', 308: 'gs://your_gcloud_bucket_name/food_data/59173.jpg,212,169,308,258,cake', 309: 'gs://your_gcloud_bucket_name/food_data/59173.jpg,208,260,309,362,cake', 310: 'gs://your_gcloud_bucket_name/food_data/59173.jpg,321,84,409,171,cake', 311: 'gs://your_gcloud_bucket_name/food_data/59173.jpg,318,11,402,80,cake', 312: 'gs://your_gcloud_bucket_name/food_data/59173.jpg,219,96,299,172,cake', 313: 'gs://your_gcloud_bucket_name/food_data/59173.jpg,110,92,198,169,cake', 314: 'gs://your_gcloud_bucket_name/food_data/59173.jpg,94,172,190,259,cake', 315: 'gs://your_gcloud_bucket_name/food_data/59173.jpg,89,270,181,361,cake', 316: 'gs://your_gcloud_bucket_name/food_data/59173.jpg,332,265,425,358,cake', 317: 'gs://your_gcloud_bucket_name/food_data/59173.jpg,326,171,413,256,cake', 318: 'gs://your_gcloud_bucket_name/food_data/59173.jpg,120,14,197,83,cake', 319: 'gs://your_gcloud_bucket_name/food_data/59173.jpg,218,17,296,91,cake', 320: 'gs://your_gcloud_bucket_name/food_data/59425.jpg,63,218,292,418,cake', 321: 'gs://your_gcloud_bucket_name/food_data/60474.jpg,70,60,369,381,cake', 322: 'gs://your_gcloud_bucket_name/food_data/63497.jpg,65,259,350,506,cake', 323: 'gs://your_gcloud_bucket_name/food_data/63497.jpg,82,19,314,223,cake', 324: 'gs://your_gcloud_bucket_name/food_data/63704.jpg,5,114,329,500,cake', 325: 'gs://your_gcloud_bucket_name/food_data/66445.jpg,283,130,442,331,cake', 326: 'gs://your_gcloud_bucket_name/food_data/66445.jpg,13,97,174,343,cake', 327: 'gs://your_gcloud_bucket_name/food_data/67469.jpg,134,61,381,346,cake', 328: 'gs://your_gcloud_bucket_name/food_data/67766.jpg,28,117,362,392,cake', 329: 'gs://your_gcloud_bucket_name/food_data/69570.jpg,123,40,371,302,cake', 330: 'gs://your_gcloud_bucket_name/food_data/70180.jpg,8,88,143,198,cake', 331: 'gs://your_gcloud_bucket_name/food_data/70180.jpg,10,212,188,356,cake', 332: 'gs://your_gcloud_bucket_name/food_data/70180.jpg,196,176,365,328,cake', 333: 'gs://your_gcloud_bucket_name/food_data/70180.jpg,384,150,512,281,cake', 334: 'gs://your_gcloud_bucket_name/food_data/70180.jpg,309,47,430,138,cake', 335: 'gs://your_gcloud_bucket_name/food_data/70180.jpg,163,68,299,169,cake', 336: 'gs://your_gcloud_bucket_name/food_data/70625.jpg,49,55,339,384,cake', 337: 'gs://your_gcloud_bucket_name/food_data/70625.jpg,336,38,510,302,cake', 338: 'gs://your_gcloud_bucket_name/food_data/71410.jpg,95,25,396,320,cake', 339: 'gs://your_gcloud_bucket_name/food_data/72335.jpg,99,251,289,443,cake', 340: 'gs://your_gcloud_bucket_name/food_data/72335.jpg,190,94,371,266,cake', 341: 'gs://your_gcloud_bucket_name/food_data/74736.jpg,17,84,207,302,cake', 342: 'gs://your_gcloud_bucket_name/food_data/74736.jpg,207,109,371,299,cake', 343: 'gs://your_gcloud_bucket_name/food_data/74736.jpg,348,91,505,241,cake', 344: 'gs://your_gcloud_bucket_name/food_data/74736.jpg,197,53,320,117,cake', 345: 'gs://your_gcloud_bucket_name/food_data/7806.jpg,108,94,204,233,cake', 346: 'gs://your_gcloud_bucket_name/food_data/7806.jpg,203,136,309,298,cake', 347: 'gs://your_gcloud_bucket_name/food_data/7806.jpg,226,82,319,166,cake', 348: 'gs://your_gcloud_bucket_name/food_data/79466.jpg,57,398,101,455,cake', 349: 'gs://your_gcloud_bucket_name/food_data/79466.jpg,105,402,152,465,cake', 350: 'gs://your_gcloud_bucket_name/food_data/79466.jpg,160,408,205,471,cake', 351: 'gs://your_gcloud_bucket_name/food_data/79466.jpg,214,405,259,463,cake', 352: 'gs://your_gcloud_bucket_name/food_data/79466.jpg,263,395,305,454,cake', 353: 'gs://your_gcloud_bucket_name/food_data/79466.jpg,161,314,205,374,cake', 354: 'gs://your_gcloud_bucket_name/food_data/79466.jpg,111,313,154,369,cake', 355: 'gs://your_gcloud_bucket_name/food_data/79466.jpg,214,311,260,373,cake', 356: 'gs://your_gcloud_bucket_name/food_data/79466.jpg,152,226,195,281,cake', 357: 'gs://your_gcloud_bucket_name/food_data/79466.jpg,132,132,178,188,cake', 358: 'gs://your_gcloud_bucket_name/food_data/79466.jpg,135,49,169,101,cake', 359: 'gs://your_gcloud_bucket_name/food_data/79466.jpg,200,45,238,102,cake', 360: 'gs://your_gcloud_bucket_name/food_data/79466.jpg,243,217,285,272,cake', 361: 'gs://your_gcloud_bucket_name/food_data/79466.jpg,71,305,112,364,cake', 362: 'gs://your_gcloud_bucket_name/food_data/79466.jpg,104,223,152,278,cake', 363: 'gs://your_gcloud_bucket_name/food_data/79466.jpg,257,306,294,364,cake', 364: 'gs://your_gcloud_bucket_name/food_data/79466.jpg,47,298,83,353,cake', 365: 'gs://your_gcloud_bucket_name/food_data/79466.jpg,26,386,62,441,cake', 366: 'gs://your_gcloud_bucket_name/food_data/79466.jpg,196,216,241,277,cake', 367: 'gs://your_gcloud_bucket_name/food_data/79466.jpg,185,134,228,188,cake', 368: 'gs://your_gcloud_bucket_name/food_data/80500.jpg,75,1,309,306,cake', 369: 'gs://your_gcloud_bucket_name/food_data/81705.jpg,60,27,448,503,cake', 370: 'gs://your_gcloud_bucket_name/food_data/84010.jpg,31,163,208,365,cake', 371: 'gs://your_gcloud_bucket_name/food_data/84496.jpg,1,44,384,499,cake', 372: 'gs://your_gcloud_bucket_name/food_data/86160.jpg,132,301,217,389,cake', 373: 'gs://your_gcloud_bucket_name/food_data/86160.jpg,238,307,328,384,cake', 374: 'gs://your_gcloud_bucket_name/food_data/86160.jpg,232,388,332,486,cake', 375: 'gs://your_gcloud_bucket_name/food_data/86160.jpg,119,396,209,483,cake', 376: 'gs://your_gcloud_bucket_name/food_data/86160.jpg,142,232,215,305,cake', 377: 'gs://your_gcloud_bucket_name/food_data/86160.jpg,234,226,317,302,cake', 378: 'gs://your_gcloud_bucket_name/food_data/86160.jpg,29,300,112,388,cake', 379: 'gs://your_gcloud_bucket_name/food_data/86160.jpg,6,384,101,482,cake', 380: 'gs://your_gcloud_bucket_name/food_data/86160.jpg,47,230,123,300,cake', 381: 'gs://your_gcloud_bucket_name/food_data/86160.jpg,61,170,125,226,cake', 382: 'gs://your_gcloud_bucket_name/food_data/86160.jpg,149,167,217,228,cake', 383: 'gs://your_gcloud_bucket_name/food_data/86160.jpg,232,166,308,236,cake', 384: 'gs://your_gcloud_bucket_name/food_data/86160.jpg,324,167,384,233,cake', 385: 'gs://your_gcloud_bucket_name/food_data/86160.jpg,328,238,384,304,cake', 386: 'gs://your_gcloud_bucket_name/food_data/86160.jpg,337,308,384,387,cake', 387: 'gs://your_gcloud_bucket_name/food_data/86160.jpg,151,119,219,170,cake', 388: 'gs://your_gcloud_bucket_name/food_data/86160.jpg,229,121,300,169,cake', 389: 'gs://your_gcloud_bucket_name/food_data/86160.jpg,310,73,384,163,cake', 390: 'gs://your_gcloud_bucket_name/food_data/86160.jpg,8,69,75,121,cake', 391: 'gs://your_gcloud_bucket_name/food_data/86160.jpg,86,75,148,119,cake', 392: 'gs://your_gcloud_bucket_name/food_data/86160.jpg,230,27,295,120,cake', 393: 'gs://your_gcloud_bucket_name/food_data/86160.jpg,164,36,223,118,cake', 394: 'gs://your_gcloud_bucket_name/food_data/8898.jpg,109,65,402,356,cake', 395: 'gs://your_gcloud_bucket_name/food_data/8898.jpg,83,21,118,63,cake', 396: 'gs://your_gcloud_bucket_name/food_data/8898.jpg,172,19,220,66,cake', 397: 'gs://your_gcloud_bucket_name/food_data/8898.jpg,409,24,457,87,cake', 398: 'gs://your_gcloud_bucket_name/food_data/8898.jpg,294,30,331,70,cake', 399: 'gs://your_gcloud_bucket_name/food_data/89713.jpg,127,230,185,275,cake', 400: 'gs://your_gcloud_bucket_name/food_data/89713.jpg,187,219,253,269,cake', 401: 'gs://your_gcloud_bucket_name/food_data/89713.jpg,264,216,323,263,cake', 402: 'gs://your_gcloud_bucket_name/food_data/89713.jpg,245,259,316,328,cake', 403: 'gs://your_gcloud_bucket_name/food_data/89713.jpg,110,271,176,344,cake', 404: 'gs://your_gcloud_bucket_name/food_data/89713.jpg,316,253,385,323,cake', 405: 'gs://your_gcloud_bucket_name/food_data/89713.jpg,209,175,266,217,cake', 406: 'gs://your_gcloud_bucket_name/food_data/89713.jpg,384,203,447,250,cake', 407: 'gs://your_gcloud_bucket_name/food_data/89713.jpg,389,249,463,313,cake', 408: 'gs://your_gcloud_bucket_name/food_data/89713.jpg,263,213,321,258,cake', 409: 'gs://your_gcloud_bucket_name/food_data/89713.jpg,36,284,106,346,cake', 410: 'gs://your_gcloud_bucket_name/food_data/89713.jpg,85,4,168,60,cake', 411: 'gs://your_gcloud_bucket_name/food_data/89713.jpg,1,14,72,81,cake', 412: 'gs://your_gcloud_bucket_name/food_data/89713.jpg,266,181,321,218,cake', 413: 'gs://your_gcloud_bucket_name/food_data/89713.jpg,190,220,253,269,cake', 414: 'gs://your_gcloud_bucket_name/food_data/89713.jpg,331,212,391,266,cake', 415: 'gs://your_gcloud_bucket_name/food_data/90772.jpg,42,108,358,417,cake', 416: 'gs://your_gcloud_bucket_name/food_data/91203.jpg,108,191,323,381,cake', 417: 'gs://your_gcloud_bucket_name/food_data/91203.jpg,333,143,512,307,cake', 418: 'gs://your_gcloud_bucket_name/food_data/91203.jpg,1,145,156,262,cake', 419: 'gs://your_gcloud_bucket_name/food_data/91203.jpg,190,120,335,233,cake', 420: 'gs://your_gcloud_bucket_name/food_data/91203.jpg,314,70,450,144,cake', 421: 'gs://your_gcloud_bucket_name/food_data/91203.jpg,148,75,277,128,cake', 422: 'gs://your_gcloud_bucket_name/food_data/91387.jpg,84,1,440,383,cake', 423: 'gs://your_gcloud_bucket_name/food_data/9193.jpg,244,74,400,227,cake', 424: 'gs://your_gcloud_bucket_name/food_data/9193.jpg,254,214,410,371,cake', 425: 'gs://your_gcloud_bucket_name/food_data/9193.jpg,54,201,251,381,cake', 426: 'gs://your_gcloud_bucket_name/food_data/9193.jpg,64,72,203,206,cake', 427: 'gs://your_gcloud_bucket_name/food_data/9256.jpg,329,348,353,372,cake', 428: 'gs://your_gcloud_bucket_name/food_data/9256.jpg,285,365,306,384,cake', 429: 'gs://your_gcloud_bucket_name/food_data/9256.jpg,244,274,276,308,cake', 430: 'gs://your_gcloud_bucket_name/food_data/9256.jpg,206,279,242,328,cake', 431: 'gs://your_gcloud_bucket_name/food_data/9256.jpg,48,293,89,335,cake', 432: 'gs://your_gcloud_bucket_name/food_data/96277.jpg,313,391,389,459,cake', 433: 'gs://your_gcloud_bucket_name/food_data/96277.jpg,400,450,475,512,cake', 434: 'gs://your_gcloud_bucket_name/food_data/96277.jpg,388,386,455,448,cake', 435: 'gs://your_gcloud_bucket_name/food_data/96964.jpg,108,175,304,341,cake', 436: 'gs://your_gcloud_bucket_name/food_data/96964.jpg,291,132,450,295,cake', 437: 'gs://your_gcloud_bucket_name/food_data/96964.jpg,220,10,377,162,cake', 438: 'gs://your_gcloud_bucket_name/food_data/97713.jpg,48,169,300,467,cake', 439: 'gs://your_gcloud_bucket_name/food_data/100576.jpg,27,192,279,464,donuts', 440: 'gs://your_gcloud_bucket_name/food_data/100576.jpg,129,7,339,213,donuts', 441: 'gs://your_gcloud_bucket_name/food_data/100786.jpg,30,127,356,418,donuts', 442: 'gs://your_gcloud_bucket_name/food_data/101905.jpg,112,21,249,151,donuts', 443: 'gs://your_gcloud_bucket_name/food_data/101905.jpg,247,28,384,153,donuts', 444: 'gs://your_gcloud_bucket_name/food_data/101905.jpg,212,153,370,293,donuts', 445: 'gs://your_gcloud_bucket_name/food_data/101905.jpg,371,163,512,345,donuts', 446: 'gs://your_gcloud_bucket_name/food_data/101905.jpg,396,23,512,166,donuts', 447: 'gs://your_gcloud_bucket_name/food_data/101905.jpg,80,146,222,297,donuts', 448: 'gs://your_gcloud_bucket_name/food_data/101905.jpg,1,42,121,184,donuts', 449: 'gs://your_gcloud_bucket_name/food_data/104498.jpg,133,165,297,299,donuts', 450: 'gs://your_gcloud_bucket_name/food_data/104498.jpg,197,274,382,402,donuts', 451: 'gs://your_gcloud_bucket_name/food_data/104498.jpg,181,39,319,142,donuts', 452: 'gs://your_gcloud_bucket_name/food_data/104498.jpg,3,335,246,509,donuts', 453: 'gs://your_gcloud_bucket_name/food_data/104498.jpg,263,114,382,236,donuts', 454: 'gs://your_gcloud_bucket_name/food_data/104498.jpg,1,205,140,366,donuts', 455: 'gs://your_gcloud_bucket_name/food_data/104498.jpg,289,13,382,106,donuts', 456: 'gs://your_gcloud_bucket_name/food_data/105814.jpg,161,177,313,305,donuts', 457: 'gs://your_gcloud_bucket_name/food_data/105814.jpg,78,122,211,221,donuts', 458: 'gs://your_gcloud_bucket_name/food_data/108879.jpg,43,1,268,225,donuts', 459: 'gs://your_gcloud_bucket_name/food_data/108879.jpg,212,163,507,383,donuts', 460: 'gs://your_gcloud_bucket_name/food_data/108879.jpg,263,1,498,160,donuts', 461: 'gs://your_gcloud_bucket_name/food_data/111351.jpg,133,107,282,252,donuts', 462: 'gs://your_gcloud_bucket_name/food_data/111351.jpg,177,31,311,127,donuts', 463: 'gs://your_gcloud_bucket_name/food_data/111351.jpg,71,292,302,511,donuts', 464: 'gs://your_gcloud_bucket_name/food_data/115428.jpg,229,154,415,319,donuts', 465: 'gs://your_gcloud_bucket_name/food_data/115428.jpg,14,133,214,282,donuts', 466: 'gs://your_gcloud_bucket_name/food_data/115428.jpg,50,14,242,142,donuts', 467: 'gs://your_gcloud_bucket_name/food_data/115428.jpg,245,19,421,168,donuts', 468: 'gs://your_gcloud_bucket_name/food_data/122287.jpg,228,239,345,366,donuts', 469: 'gs://your_gcloud_bucket_name/food_data/122287.jpg,347,264,469,382,donuts', 470: 'gs://your_gcloud_bucket_name/food_data/122399.jpg,193,109,381,252,donuts', 471: 'gs://your_gcloud_bucket_name/food_data/122399.jpg,40,230,293,418,donuts', 472: 'gs://your_gcloud_bucket_name/food_data/126768.jpg,80,274,136,314,donuts', 473: 'gs://your_gcloud_bucket_name/food_data/126768.jpg,31,188,92,230,donuts', 474: 'gs://your_gcloud_bucket_name/food_data/126768.jpg,19,290,77,323,donuts', 475: 'gs://your_gcloud_bucket_name/food_data/126768.jpg,89,183,140,221,donuts', 476: 'gs://your_gcloud_bucket_name/food_data/129296.jpg,17,173,90,224,donuts', 477: 'gs://your_gcloud_bucket_name/food_data/129296.jpg,16,216,91,274,donuts', 478: 'gs://your_gcloud_bucket_name/food_data/129296.jpg,89,192,156,248,donuts', 479: 'gs://your_gcloud_bucket_name/food_data/129296.jpg,178,227,254,283,donuts', 480: 'gs://your_gcloud_bucket_name/food_data/129296.jpg,272,253,356,321,donuts', 481: 'gs://your_gcloud_bucket_name/food_data/129296.jpg,135,326,224,413,donuts', 482: 'gs://your_gcloud_bucket_name/food_data/130235.jpg,21,75,354,359,donuts', 483: 'gs://your_gcloud_bucket_name/food_data/132845.jpg,40,148,187,229,donuts', 484: 'gs://your_gcloud_bucket_name/food_data/132845.jpg,161,189,336,331,donuts', 485: 'gs://your_gcloud_bucket_name/food_data/132845.jpg,322,229,512,358,donuts', 486: 'gs://your_gcloud_bucket_name/food_data/132845.jpg,1,229,171,366,donuts', 487: 'gs://your_gcloud_bucket_name/food_data/132845.jpg,298,148,438,234,donuts', 488: 'gs://your_gcloud_bucket_name/food_data/133819.jpg,27,227,215,386,donuts', 489: 'gs://your_gcloud_bucket_name/food_data/133819.jpg,168,308,362,512,donuts', 490: 'gs://your_gcloud_bucket_name/food_data/133819.jpg,201,172,362,312,donuts', 491: 'gs://your_gcloud_bucket_name/food_data/133819.jpg,2,378,165,512,donuts', 492: 'gs://your_gcloud_bucket_name/food_data/1342.jpg,257,253,312,295,donuts', 493: 'gs://your_gcloud_bucket_name/food_data/1342.jpg,387,279,442,328,donuts', 494: 'gs://your_gcloud_bucket_name/food_data/1342.jpg,450,290,512,337,donuts', 495: 'gs://your_gcloud_bucket_name/food_data/1342.jpg,398,170,468,212,donuts', 496: 'gs://your_gcloud_bucket_name/food_data/1342.jpg,407,142,471,172,donuts', 497: 'gs://your_gcloud_bucket_name/food_data/1342.jpg,168,237,214,276,donuts', 498: 'gs://your_gcloud_bucket_name/food_data/1342.jpg,282,226,329,260,donuts', 499: 'gs://your_gcloud_bucket_name/food_data/1342.jpg,394,253,464,283,donuts', 500: 'gs://your_gcloud_bucket_name/food_data/134878.jpg,130,260,286,459,donuts', 501: 'gs://your_gcloud_bucket_name/food_data/134878.jpg,113,179,259,264,donuts', 502: 'gs://your_gcloud_bucket_name/food_data/134878.jpg,191,90,283,234,donuts', 503: 'gs://your_gcloud_bucket_name/food_data/134878.jpg,3,239,154,438,donuts', 504: 'gs://your_gcloud_bucket_name/food_data/136841.jpg,35,87,360,347,donuts', 505: 'gs://your_gcloud_bucket_name/food_data/139130.jpg,212,155,461,342,donuts', 506: 'gs://your_gcloud_bucket_name/food_data/139130.jpg,122,74,284,170,donuts', 507: 'gs://your_gcloud_bucket_name/food_data/139130.jpg,278,72,461,163,donuts', 508: 'gs://your_gcloud_bucket_name/food_data/139130.jpg,1,134,232,342,donuts', 509: 'gs://your_gcloud_bucket_name/food_data/139546.jpg,159,167,242,246,donuts', 510: 'gs://your_gcloud_bucket_name/food_data/139546.jpg,243,174,331,240,donuts', 511: 'gs://your_gcloud_bucket_name/food_data/139546.jpg,268,235,364,332,donuts', 512: 'gs://your_gcloud_bucket_name/food_data/139546.jpg,56,170,147,253,donuts', 513: 'gs://your_gcloud_bucket_name/food_data/139546.jpg,171,107,247,165,donuts', 514: 'gs://your_gcloud_bucket_name/food_data/139546.jpg,149,240,259,333,donuts', 515: 'gs://your_gcloud_bucket_name/food_data/139546.jpg,45,249,154,333,donuts', 516: 'gs://your_gcloud_bucket_name/food_data/139546.jpg,364,244,459,323,donuts', 517: 'gs://your_gcloud_bucket_name/food_data/139546.jpg,89,107,166,170,donuts', 518: 'gs://your_gcloud_bucket_name/food_data/139546.jpg,342,176,426,244,donuts', 519: 'gs://your_gcloud_bucket_name/food_data/141712.jpg,244,111,504,491,donuts', 520: 'gs://your_gcloud_bucket_name/food_data/148384.jpg,259,292,350,408,donuts', 521: 'gs://your_gcloud_bucket_name/food_data/148384.jpg,1,231,77,321,donuts', 522: 'gs://your_gcloud_bucket_name/food_data/161545.jpg,64,11,485,360,donuts', 523: 'gs://your_gcloud_bucket_name/food_data/162583.jpg,19,5,382,479,donuts', 524: 'gs://your_gcloud_bucket_name/food_data/164423.jpg,37,257,313,512,donuts', 525: 'gs://your_gcloud_bucket_name/food_data/164423.jpg,180,42,373,283,donuts', 526: 'gs://your_gcloud_bucket_name/food_data/164423.jpg,1,13,181,299,donuts', 527: 'gs://your_gcloud_bucket_name/food_data/165928.jpg,24,270,142,391,donuts', 528: 'gs://your_gcloud_bucket_name/food_data/165928.jpg,34,179,125,270,donuts', 529: 'gs://your_gcloud_bucket_name/food_data/165928.jpg,247,262,335,378,donuts', 530: 'gs://your_gcloud_bucket_name/food_data/165928.jpg,131,40,207,127,donuts', 531: 'gs://your_gcloud_bucket_name/food_data/165928.jpg,35,92,133,183,donuts', 532: 'gs://your_gcloud_bucket_name/food_data/165967.jpg,108,242,280,439,donuts', 533: 'gs://your_gcloud_bucket_name/food_data/166210.jpg,8,285,190,479,donuts', 534: 'gs://your_gcloud_bucket_name/food_data/166210.jpg,189,290,380,477,donuts', 535: 'gs://your_gcloud_bucket_name/food_data/166210.jpg,208,177,378,317,donuts', 536: 'gs://your_gcloud_bucket_name/food_data/167522.jpg,205,263,237,290,donuts', 537: 'gs://your_gcloud_bucket_name/food_data/167522.jpg,175,257,206,284,donuts', 538: 'gs://your_gcloud_bucket_name/food_data/167522.jpg,238,261,273,290,donuts', 539: 'gs://your_gcloud_bucket_name/food_data/167522.jpg,206,244,237,265,donuts', 540: 'gs://your_gcloud_bucket_name/food_data/167522.jpg,156,191,187,211,donuts', 541: 'gs://your_gcloud_bucket_name/food_data/167522.jpg,270,192,301,213,donuts', 542: 'gs://your_gcloud_bucket_name/food_data/167522.jpg,243,190,269,209,donuts', 543: 'gs://your_gcloud_bucket_name/food_data/167522.jpg,213,191,243,211,donuts', 544: 'gs://your_gcloud_bucket_name/food_data/167522.jpg,186,192,212,213,donuts', 545: 'gs://your_gcloud_bucket_name/food_data/167522.jpg,354,185,389,211,donuts', 546: 'gs://your_gcloud_bucket_name/food_data/167522.jpg,319,185,354,210,donuts', 547: 'gs://your_gcloud_bucket_name/food_data/167522.jpg,329,275,358,299,donuts', 548: 'gs://your_gcloud_bucket_name/food_data/167522.jpg,326,243,351,259,donuts', 549: 'gs://your_gcloud_bucket_name/food_data/167522.jpg,328,260,356,275,donuts', 550: 'gs://your_gcloud_bucket_name/food_data/167522.jpg,359,274,381,297,donuts', 551: 'gs://your_gcloud_bucket_name/food_data/167522.jpg,108,181,139,206,donuts', 552: 'gs://your_gcloud_bucket_name/food_data/167522.jpg,79,183,108,209,donuts', 553: 'gs://your_gcloud_bucket_name/food_data/167522.jpg,16,181,49,206,donuts', 554: 'gs://your_gcloud_bucket_name/food_data/167522.jpg,159,177,187,193,donuts', 555: 'gs://your_gcloud_bucket_name/food_data/168471.jpg,177,284,365,503,donuts', 556: 'gs://your_gcloud_bucket_name/food_data/168471.jpg,108,139,291,302,donuts', 557: 'gs://your_gcloud_bucket_name/food_data/168471.jpg,298,138,438,312,donuts', 558: 'gs://your_gcloud_bucket_name/food_data/168471.jpg,204,6,373,162,donuts', 559: 'gs://your_gcloud_bucket_name/food_data/1765.jpg,89,218,218,378,donuts', 560: 'gs://your_gcloud_bucket_name/food_data/1765.jpg,154,162,265,283,donuts', 561: 'gs://your_gcloud_bucket_name/food_data/176831.jpg,173,199,435,382,donuts', 562: 'gs://your_gcloud_bucket_name/food_data/176831.jpg,157,3,300,78,donuts', 563: 'gs://your_gcloud_bucket_name/food_data/177254.jpg,247,111,357,209,donuts', 564: 'gs://your_gcloud_bucket_name/food_data/177254.jpg,357,105,452,202,donuts', 565: 'gs://your_gcloud_bucket_name/food_data/177254.jpg,378,197,491,300,donuts', 566: 'gs://your_gcloud_bucket_name/food_data/177254.jpg,19,55,143,155,donuts', 567: 'gs://your_gcloud_bucket_name/food_data/177254.jpg,314,19,419,105,donuts', 568: 'gs://your_gcloud_bucket_name/food_data/177254.jpg,277,204,389,323,donuts', 569: 'gs://your_gcloud_bucket_name/food_data/196569.jpg,172,234,364,326,donuts', 570: 'gs://your_gcloud_bucket_name/food_data/196569.jpg,46,325,221,429,donuts', 571: 'gs://your_gcloud_bucket_name/food_data/196578.jpg,3,175,248,443,donuts', 572: 'gs://your_gcloud_bucket_name/food_data/197068.jpg,9,266,380,512,donuts', 573: 'gs://your_gcloud_bucket_name/food_data/197068.jpg,64,126,309,282,donuts', 574: 'gs://your_gcloud_bucket_name/food_data/197068.jpg,98,48,277,144,donuts', 575: 'gs://your_gcloud_bucket_name/food_data/197068.jpg,113,4,263,64,donuts', 576: 'gs://your_gcloud_bucket_name/food_data/201175.jpg,371,269,440,334,donuts', 577: 'gs://your_gcloud_bucket_name/food_data/203890.jpg,243,211,400,375,donuts', 578: 'gs://your_gcloud_bucket_name/food_data/203890.jpg,326,136,461,266,donuts', 579: 'gs://your_gcloud_bucket_name/food_data/203890.jpg,112,66,233,162,donuts', 580: 'gs://your_gcloud_bucket_name/food_data/203890.jpg,28,122,168,227,donuts', 581: 'gs://your_gcloud_bucket_name/food_data/204081.jpg,39,234,282,473,donuts', 582: 'gs://your_gcloud_bucket_name/food_data/204081.jpg,161,100,384,344,donuts', 583: 'gs://your_gcloud_bucket_name/food_data/204298.jpg,75,62,136,118,donuts', 584: 'gs://your_gcloud_bucket_name/food_data/204298.jpg,101,144,210,237,donuts', 585: 'gs://your_gcloud_bucket_name/food_data/204298.jpg,1,147,101,239,donuts', 586: 'gs://your_gcloud_bucket_name/food_data/204298.jpg,342,137,459,225,donuts', 587: 'gs://your_gcloud_bucket_name/food_data/204298.jpg,214,63,292,111,donuts', 588: 'gs://your_gcloud_bucket_name/food_data/205830.jpg,182,111,352,287,donuts', 589: 'gs://your_gcloud_bucket_name/food_data/208382.jpg,108,133,373,360,donuts', 590: 'gs://your_gcloud_bucket_name/food_data/208382.jpg,21,81,210,269,donuts', 591: 'gs://your_gcloud_bucket_name/food_data/211626.jpg,63,1,284,221,donuts', 592: 'gs://your_gcloud_bucket_name/food_data/211626.jpg,2,169,149,382,donuts', 593: 'gs://your_gcloud_bucket_name/food_data/211626.jpg,73,356,292,509,donuts', 594: 'gs://your_gcloud_bucket_name/food_data/212751.jpg,140,85,291,208,donuts', 595: 'gs://your_gcloud_bucket_name/food_data/212751.jpg,321,241,475,382,donuts', 596: 'gs://your_gcloud_bucket_name/food_data/212751.jpg,305,80,485,236,donuts', 597: 'gs://your_gcloud_bucket_name/food_data/212751.jpg,121,206,322,376,donuts', 598: 'gs://your_gcloud_bucket_name/food_data/217403.jpg,2,7,130,148,donuts', 599: 'gs://your_gcloud_bucket_name/food_data/217403.jpg,114,181,240,295,donuts', 600: 'gs://your_gcloud_bucket_name/food_data/217403.jpg,1,395,129,511,donuts', 601: 'gs://your_gcloud_bucket_name/food_data/217403.jpg,242,273,341,377,donuts', 602: 'gs://your_gcloud_bucket_name/food_data/217403.jpg,237,43,343,172,donuts', 603: 'gs://your_gcloud_bucket_name/food_data/217403.jpg,4,140,116,270,donuts', 604: 'gs://your_gcloud_bucket_name/food_data/217403.jpg,2,268,132,396,donuts', 605: 'gs://your_gcloud_bucket_name/food_data/24944.jpg,129,144,315,304,donuts', 606: 'gs://your_gcloud_bucket_name/food_data/24944.jpg,305,123,484,269,donuts', 607: 'gs://your_gcloud_bucket_name/food_data/24944.jpg,192,42,319,153,donuts', 608: 'gs://your_gcloud_bucket_name/food_data/29394.jpg,164,240,247,313,donuts', 609: 'gs://your_gcloud_bucket_name/food_data/29394.jpg,246,248,337,321,donuts', 610: 'gs://your_gcloud_bucket_name/food_data/29394.jpg,272,196,356,257,donuts', 611: 'gs://your_gcloud_bucket_name/food_data/29394.jpg,200,181,272,252,donuts', 612: 'gs://your_gcloud_bucket_name/food_data/29394.jpg,130,175,202,234,donuts', 613: 'gs://your_gcloud_bucket_name/food_data/29394.jpg,273,318,363,390,donuts', 614: 'gs://your_gcloud_bucket_name/food_data/29394.jpg,181,312,270,377,donuts', 615: 'gs://your_gcloud_bucket_name/food_data/34342.jpg,7,53,259,302,donuts', 616: 'gs://your_gcloud_bucket_name/food_data/34342.jpg,268,63,512,308,donuts', 617: 'gs://your_gcloud_bucket_name/food_data/42050.jpg,78,230,241,340,donuts', 618: 'gs://your_gcloud_bucket_name/food_data/42050.jpg,273,318,384,442,donuts', 619: 'gs://your_gcloud_bucket_name/food_data/42050.jpg,102,156,231,240,donuts', 620: 'gs://your_gcloud_bucket_name/food_data/42050.jpg,230,159,354,243,donuts', 621: 'gs://your_gcloud_bucket_name/food_data/42051.jpg,73,251,290,453,donuts', 622: 'gs://your_gcloud_bucket_name/food_data/42188.jpg,125,260,267,403,donuts', 623: 'gs://your_gcloud_bucket_name/food_data/45027.jpg,128,151,245,246,donuts', 624: 'gs://your_gcloud_bucket_name/food_data/45027.jpg,126,244,263,333,donuts', 625: 'gs://your_gcloud_bucket_name/food_data/45027.jpg,5,225,135,330,donuts', 626: 'gs://your_gcloud_bucket_name/food_data/45027.jpg,28,137,131,230,donuts', 627: 'gs://your_gcloud_bucket_name/food_data/45027.jpg,156,69,256,160,donuts', 628: 'gs://your_gcloud_bucket_name/food_data/45027.jpg,408,223,512,323,donuts', 629: 'gs://your_gcloud_bucket_name/food_data/48537.jpg,100,169,224,260,donuts', 630: 'gs://your_gcloud_bucket_name/food_data/4919.jpg,180,70,495,384,donuts', 631: 'gs://your_gcloud_bucket_name/food_data/4919.jpg,14,76,214,332,donuts', 632: 'gs://your_gcloud_bucket_name/food_data/53457.jpg,66,75,280,313,donuts', 633: 'gs://your_gcloud_bucket_name/food_data/53457.jpg,259,80,478,341,donuts', 634: 'gs://your_gcloud_bucket_name/food_data/53695.jpg,29,9,292,290,donuts', 635: 'gs://your_gcloud_bucket_name/food_data/53695.jpg,289,65,511,303,donuts', 636: 'gs://your_gcloud_bucket_name/food_data/58396.jpg,101,142,307,314,donuts', 637: 'gs://your_gcloud_bucket_name/food_data/58396.jpg,305,183,466,346,donuts', 638: 'gs://your_gcloud_bucket_name/food_data/58396.jpg,350,53,491,165,donuts', 639: 'gs://your_gcloud_bucket_name/food_data/58396.jpg,219,55,350,172,donuts', 640: 'gs://your_gcloud_bucket_name/food_data/58396.jpg,33,42,215,169,donuts', 641: 'gs://your_gcloud_bucket_name/food_data/58403.jpg,50,42,461,346,donuts', 642: 'gs://your_gcloud_bucket_name/food_data/6035.jpg,84,81,305,300,donuts', 643: 'gs://your_gcloud_bucket_name/food_data/6035.jpg,273,193,485,377,donuts', 644: 'gs://your_gcloud_bucket_name/food_data/878.jpg,212,137,331,235,donuts', 645: 'gs://your_gcloud_bucket_name/food_data/878.jpg,73,162,191,240,donuts', 646: 'gs://your_gcloud_bucket_name/food_data/878.jpg,98,242,238,342,donuts', 647: 'gs://your_gcloud_bucket_name/food_data/91540.jpg,222,107,370,225,donuts', 648: 'gs://your_gcloud_bucket_name/food_data/91590.jpg,159,193,282,290,donuts', 649: 'gs://your_gcloud_bucket_name/food_data/91590.jpg,289,190,421,276,donuts', 650: 'gs://your_gcloud_bucket_name/food_data/91590.jpg,63,197,168,300,donuts', 651: 'gs://your_gcloud_bucket_name/food_data/9843.jpg,8,107,164,355,donuts', 652: 'gs://your_gcloud_bucket_name/food_data/9843.jpg,154,109,317,328,donuts', 653: 'gs://your_gcloud_bucket_name/food_data/98500.jpg,28,185,129,300,donuts', 654: 'gs://your_gcloud_bucket_name/food_data/99223.jpg,143,160,425,384,donuts', 655: 'gs://your_gcloud_bucket_name/food_data/99223.jpg,231,23,392,160,donuts', 656: 'gs://your_gcloud_bucket_name/food_data/99223.jpg,33,14,205,147,donuts', 657: 'gs://your_gcloud_bucket_name/food_data/aug_1.jpg,551,652,4151,2992,dosa', 658: 'gs://your_gcloud_bucket_name/food_data/aug_10.jpg,2,2,345,199,dosa', 659: 'gs://your_gcloud_bucket_name/food_data/aug_101 - Copy.jpg,27,239,1227,625,dosa', 660: 'gs://your_gcloud_bucket_name/food_data/aug_101.jpg,7,2,834,371,dosa', 661: 'gs://your_gcloud_bucket_name/food_data/aug_102.jpg,42,14,677,516,dosa', 662: 'gs://your_gcloud_bucket_name/food_data/aug_104.jpg,219,43,707,345,dosa', 663: 'gs://your_gcloud_bucket_name/food_data/aug_105.jpg,292,157,1362,560,dosa', 664: 'gs://your_gcloud_bucket_name/food_data/aug_106.jpg,380,469,898,953,dosa', 665: 'gs://your_gcloud_bucket_name/food_data/aug_106.jpg,617,257,1152,697,dosa', 666: 'gs://your_gcloud_bucket_name/food_data/aug_107.jpg,224,3,336,233,dosa', 667: 'gs://your_gcloud_bucket_name/food_data/aug_108.jpg,435,1355,2432,3066,dosa', 668: 'gs://your_gcloud_bucket_name/food_data/aug_108.jpg,297,485,1850,1985,dosa', 669: 'gs://your_gcloud_bucket_name/food_data/aug_109.jpg,1,169,343,474,dosa', 670: 'gs://your_gcloud_bucket_name/food_data/aug_110.jpg,2,211,532,950,dosa', 671: 'gs://your_gcloud_bucket_name/food_data/aug_111.jpg,97,332,773,953,dosa', 672: 'gs://your_gcloud_bucket_name/food_data/aug_112.jpg,139,213,888,844,dosa', 673: 'gs://your_gcloud_bucket_name/food_data/aug_113.jpg,19,2,336,632,dosa', 674: 'gs://your_gcloud_bucket_name/food_data/aug_115.jpg,289,151,1365,575,dosa', 675: 'gs://your_gcloud_bucket_name/food_data/aug_117.jpg,93,5,356,299,dosa', 676: 'gs://your_gcloud_bucket_name/food_data/aug_118.jpg,162,3,960,347,dosa', 677: 'gs://your_gcloud_bucket_name/food_data/aug_119.jpg,328,4,700,402,dosa', 678: 'gs://your_gcloud_bucket_name/food_data/aug_12.jpg,46,548,1600,1036,dosa', 679: 'gs://your_gcloud_bucket_name/food_data/aug_12.jpg,457,6,1600,1172,dosa', 680: 'gs://your_gcloud_bucket_name/food_data/aug_120.jpg,2,68,598,294,dosa', 681: 'gs://your_gcloud_bucket_name/food_data/aug_121.jpg,236,222,718,487,dosa', 682: 'gs://your_gcloud_bucket_name/food_data/aug_122 - Copy.jpg,668,258,1376,746,dosa', 683: 'gs://your_gcloud_bucket_name/food_data/aug_122.jpg,277,339,1157,721,dosa', 684: 'gs://your_gcloud_bucket_name/food_data/aug_122.jpg,467,5,1190,485,dosa', 685: 'gs://your_gcloud_bucket_name/food_data/aug_123.jpg,515,229,1122,1033,dosa', 686: 'gs://your_gcloud_bucket_name/food_data/aug_125 - Copy.jpg,54,207,1017,507,dosa', 687: 'gs://your_gcloud_bucket_name/food_data/aug_125.jpg,3,38,679,387,dosa', 688: 'gs://your_gcloud_bucket_name/food_data/aug_128.jpg,1,33,300,217,dosa', 689: 'gs://your_gcloud_bucket_name/food_data/aug_129 - Copy.jpg,436,7,1822,1844,dosa', 690: 'gs://your_gcloud_bucket_name/food_data/aug_129.jpg,43,555,1600,1045,dosa', 691: 'gs://your_gcloud_bucket_name/food_data/aug_129.jpg,453,6,1600,1190,dosa', 692: 'gs://your_gcloud_bucket_name/food_data/aug_130.jpg,174,2,942,491,dosa', 693: 'gs://your_gcloud_bucket_name/food_data/aug_131.jpg,43,65,303,150,dosa', 694: 'gs://your_gcloud_bucket_name/food_data/aug_132 - Copy.jpg,64,339,831,774,dosa', 695: 'gs://your_gcloud_bucket_name/food_data/aug_132.jpg,1,81,530,525,dosa', 696: 'gs://your_gcloud_bucket_name/food_data/aug_135.jpg,404,153,1056,831,dosa', 697: 'gs://your_gcloud_bucket_name/food_data/aug_136.jpg,4,93,1687,673,dosa', 698: 'gs://your_gcloud_bucket_name/food_data/aug_14.jpg,6,2,330,221,dosa', 699: 'gs://your_gcloud_bucket_name/food_data/aug_15.jpg,136,88,620,868,dosa', 700: 'gs://your_gcloud_bucket_name/food_data/aug_16 - Copy.jpg,2,194,864,482,dosa', 701: 'gs://your_gcloud_bucket_name/food_data/aug_16.jpg,58,1,488,396,dosa', 702: 'gs://your_gcloud_bucket_name/food_data/aug_17.jpg,39,1,503,720,dosa', 703: 'gs://your_gcloud_bucket_name/food_data/aug_19.jpg,14,36,535,395,dosa', 704: 'gs://your_gcloud_bucket_name/food_data/aug_20.jpg,113,9,449,236,dosa', 705: 'gs://your_gcloud_bucket_name/food_data/aug_22.jpg,608,138,1130,1484,dosa', 706: 'gs://your_gcloud_bucket_name/food_data/aug_23.jpg,75,119,618,890,dosa', 707: 'gs://your_gcloud_bucket_name/food_data/aug_24.jpg,1,56,1200,750,dosa', 708: 'gs://your_gcloud_bucket_name/food_data/aug_26.jpg,99,2,494,768,dosa', 709: 'gs://your_gcloud_bucket_name/food_data/aug_29.jpg,77,29,735,313,dosa', 710: 'gs://your_gcloud_bucket_name/food_data/aug_3.jpg,15,186,179,281,dosa', 711: 'gs://your_gcloud_bucket_name/food_data/aug_30.jpg,42,3,500,485,dosa', 712: 'gs://your_gcloud_bucket_name/food_data/aug_31.jpg,45,11,430,304,dosa', 713: 'gs://your_gcloud_bucket_name/food_data/aug_32.jpg,30,64,277,133,dosa', 714: 'gs://your_gcloud_bucket_name/food_data/aug_34.jpg,181,77,544,382,dosa', 715: 'gs://your_gcloud_bucket_name/food_data/aug_35.jpg,36,16,459,392,dosa', 716: 'gs://your_gcloud_bucket_name/food_data/aug_37 - Copy.jpg,225,383,1055,541,dosa', 717: 'gs://your_gcloud_bucket_name/food_data/aug_37.jpg,3,111,768,291,dosa', 718: 'gs://your_gcloud_bucket_name/food_data/aug_4.jpg,1,102,403,445,dosa', 719: 'gs://your_gcloud_bucket_name/food_data/aug_41.jpg,131,3,758,296,dosa', 720: 'gs://your_gcloud_bucket_name/food_data/aug_42.jpg,39,186,445,393,dosa', 721: 'gs://your_gcloud_bucket_name/food_data/aug_45 - Copy.jpg,257,307,930,568,dosa', 722: 'gs://your_gcloud_bucket_name/food_data/aug_45.jpg,77,2,740,251,dosa', 723: 'gs://your_gcloud_bucket_name/food_data/aug_46.jpg,77,340,612,893,dosa', 724: 'gs://your_gcloud_bucket_name/food_data/aug_46.jpg,332,444,855,1001,dosa', 725: 'gs://your_gcloud_bucket_name/food_data/aug_47.jpg,23,163,819,492,dosa', 726: 'gs://your_gcloud_bucket_name/food_data/aug_48.jpg,264,83,594,300,dosa', 727: 'gs://your_gcloud_bucket_name/food_data/aug_5.jpg,22,29,300,249,dosa', 728: 'gs://your_gcloud_bucket_name/food_data/aug_50.jpg,57,13,549,309,dosa', 729: 'gs://your_gcloud_bucket_name/food_data/aug_51.jpg,29,1,789,401,dosa', 730: 'gs://your_gcloud_bucket_name/food_data/aug_52.jpg,1,1,300,186,dosa', 731: 'gs://your_gcloud_bucket_name/food_data/aug_53.jpg,29,172,573,872,dosa', 732: 'gs://your_gcloud_bucket_name/food_data/aug_54.jpg,79,147,755,591,dosa', 733: 'gs://your_gcloud_bucket_name/food_data/aug_55.jpg,23,11,225,195,dosa', 734: 'gs://your_gcloud_bucket_name/food_data/aug_56.jpg,3,176,148,279,dosa', 735: 'gs://your_gcloud_bucket_name/food_data/aug_56.jpg,28,120,159,217,dosa', 736: 'gs://your_gcloud_bucket_name/food_data/aug_56.jpg,42,75,179,171,dosa', 737: 'gs://your_gcloud_bucket_name/food_data/aug_57.jpg,15,1,952,366,dosa', 738: 'gs://your_gcloud_bucket_name/food_data/aug_58.jpg,203,8,877,293,dosa', 739: 'gs://your_gcloud_bucket_name/food_data/aug_59.jpg,33,362,2997,2662,dosa', 740: 'gs://your_gcloud_bucket_name/food_data/aug_6 - Copy.jpg,197,411,804,764,dosa', 741: 'gs://your_gcloud_bucket_name/food_data/aug_6.jpg,6,164,604,502,dosa', 742: 'gs://your_gcloud_bucket_name/food_data/aug_60.jpg,1,257,660,910,dosa', 743: 'gs://your_gcloud_bucket_name/food_data/aug_62.jpg,13,11,416,251,dosa', 744: 'gs://your_gcloud_bucket_name/food_data/aug_63.jpg,18,15,1479,493,dosa', 745: 'gs://your_gcloud_bucket_name/food_data/aug_64.jpg,19,125,407,365,dosa', 746: 'gs://your_gcloud_bucket_name/food_data/aug_65 - Copy.jpg,99,69,363,322,dosa', 747: 'gs://your_gcloud_bucket_name/food_data/aug_65.jpg,15,1,274,250,dosa', 748: 'gs://your_gcloud_bucket_name/food_data/aug_66.jpg,306,474,1619,1249,dosa', 749: 'gs://your_gcloud_bucket_name/food_data/aug_68.jpg,35,109,508,481,dosa', 750: 'gs://your_gcloud_bucket_name/food_data/aug_7.jpg,252,12,476,439,dosa', 751: 'gs://your_gcloud_bucket_name/food_data/aug_71.jpg,30,119,533,367,dosa', 752: 'gs://your_gcloud_bucket_name/food_data/aug_72.jpg,43,16,429,318,dosa', 753: 'gs://your_gcloud_bucket_name/food_data/aug_73.jpg,3,8,1600,861,dosa', 754: 'gs://your_gcloud_bucket_name/food_data/aug_74.jpg,215,44,1415,962,dosa', 755: 'gs://your_gcloud_bucket_name/food_data/aug_75.jpg,35,23,405,263,dosa', 756: 'gs://your_gcloud_bucket_name/food_data/aug_76.jpg,1121,294,4521,2019,dosa', 757: 'gs://your_gcloud_bucket_name/food_data/aug_79 - Copy.jpg,165,182,756,363,dosa', 758: 'gs://your_gcloud_bucket_name/food_data/aug_79.jpg,101,61,555,243,dosa', 759: 'gs://your_gcloud_bucket_name/food_data/aug_8.jpg,104,22,655,697,dosa', 760: 'gs://your_gcloud_bucket_name/food_data/aug_82.jpg,25,44,423,256,dosa', 761: 'gs://your_gcloud_bucket_name/food_data/aug_85 - Copy.jpg,12,280,1799,680,dosa', 762: 'gs://your_gcloud_bucket_name/food_data/aug_85.jpg,21,3,1482,498,dosa', 763: 'gs://your_gcloud_bucket_name/food_data/aug_86 - Copy.jpg,60,330,826,784,dosa', 764: 'gs://your_gcloud_bucket_name/food_data/aug_86.jpg,1,83,540,525,dosa', 765: 'gs://your_gcloud_bucket_name/food_data/aug_87.jpg,2,1,587,547,dosa', 766: 'gs://your_gcloud_bucket_name/food_data/aug_88.jpg,110,18,646,702,dosa', 767: 'gs://your_gcloud_bucket_name/food_data/aug_89.jpg,35,9,724,386,dosa', 768: 'gs://your_gcloud_bucket_name/food_data/aug_9.jpg,102,387,757,724,dosa', 769: 'gs://your_gcloud_bucket_name/food_data/aug_91 - Copy.jpg,169,228,1369,1985,dosa', 770: 'gs://your_gcloud_bucket_name/food_data/aug_91.jpg,8,2,1039,1199,dosa', 771: 'gs://your_gcloud_bucket_name/food_data/aug_93.jpg,223,16,609,318,dosa', 772: 'gs://your_gcloud_bucket_name/food_data/aug_96.jpg,55,196,1536,1509,dosa', 773: 'gs://your_gcloud_bucket_name/food_data/aug_97.jpg,94,111,611,752,dosa', 774: 'gs://your_gcloud_bucket_name/food_data/aug_97.jpg,284,75,680,682,dosa', 775: 'gs://your_gcloud_bucket_name/food_data/aug_97.jpg,407,4,680,577,dosa'}\n"
     ]
    }
   ],
   "source": [
    "with open('data.pickle','rb') as file:\n",
    "    data_dict= pickle.load(file)\n",
    "\n",
    "file.close()\n",
    "print(data_dict)"
   ]
  }
 ],
 "metadata": {
  "kernelspec": {
   "display_name": "Python 3",
   "language": "python",
   "name": "python3"
  },
  "language_info": {
   "codemirror_mode": {
    "name": "ipython",
    "version": 3
   },
   "file_extension": ".py",
   "mimetype": "text/x-python",
   "name": "python",
   "nbconvert_exporter": "python",
   "pygments_lexer": "ipython3",
   "version": "3.6.6"
  }
 },
 "nbformat": 4,
 "nbformat_minor": 2
}
